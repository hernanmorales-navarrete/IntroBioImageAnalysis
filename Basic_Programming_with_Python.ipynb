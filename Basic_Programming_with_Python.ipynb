{
 "cells": [
  {
   "cell_type": "markdown",
   "metadata": {
    "id": "UyIAUdeYpayy"
   },
   "source": [
    "Basic programming with Python \n",
    "---\n",
    "---\n",
    "**Outline**\n",
    "\n",
    "1. Introduction\n",
    "2. Creating functions \n",
    "3. Reading and writing text/binary files\n",
    "4. Working with data tables\n",
    "  *   Basic statistics  \n",
    "  *   Plots with matplotlib \n",
    "\n",
    "\n",
    "---\n",
    "\n",
    "Dataset: https://archive.ics.uci.edu/ml/datasets/wine "
   ]
  },
  {
   "cell_type": "markdown",
   "metadata": {
    "id": "RaFWaoR14unN"
   },
   "source": [
    "\n",
    "**1. Introduction** \n",
    "---\n",
    "Check which packages you have already installed\n",
    "---\n",
    "1.1. Display a list of installed package names and version numbers"
   ]
  },
  {
   "cell_type": "code",
   "execution_count": null,
   "metadata": {
    "id": "V2u4FZEY4sHX"
   },
   "outputs": [],
   "source": [
    "pip list"
   ]
  },
  {
   "cell_type": "markdown",
   "metadata": {
    "id": "B9P5HDDlEUQq"
   },
   "source": [
    "1.2. Check specific installed packages\n",
    "\n",
    "a. numpy (Numerical python) https://numpy.org/doc/stable/user/absolute_beginners.html\n",
    "\n",
    "b. pandas https://pandas.pydata.org/docs/user_guide/index.html#user-guide\n",
    "\n",
    "c. matplotlib  https://matplotlib.org/stable/index.html"
   ]
  },
  {
   "cell_type": "code",
   "execution_count": null,
   "metadata": {
    "id": "XPjlWVgHHl4X"
   },
   "outputs": [],
   "source": [
    "pip show numpy"
   ]
  },
  {
   "cell_type": "code",
   "execution_count": null,
   "metadata": {
    "id": "_ZnrmqKhEi8C"
   },
   "outputs": [],
   "source": [
    "pip show pandas"
   ]
  },
  {
   "cell_type": "code",
   "execution_count": null,
   "metadata": {
    "id": "jNGy1zcGHxAo"
   },
   "outputs": [],
   "source": [
    "pip show matplotlib"
   ]
  },
  {
   "cell_type": "markdown",
   "metadata": {
    "id": "QlaxiZRhIBEn"
   },
   "source": [
    "\n",
    "\n",
    "---\n",
    "Use packages\n",
    "---\n",
    "\n",
    "Access to a package or to the code in another module by importing it. \n",
    "\n",
    "1.3. Import and use packages"
   ]
  },
  {
   "cell_type": "code",
   "execution_count": null,
   "metadata": {
    "colab": {
     "base_uri": "https://localhost:8080/"
    },
    "id": "FPTGmrb5NKU0",
    "outputId": "bcd68a81-72b0-4f47-932e-db138778850c"
   },
   "outputs": [],
   "source": [
    "import numpy as np\n",
    "a = np.arange(6)\n",
    "print(a)"
   ]
  },
  {
   "cell_type": "code",
   "execution_count": null,
   "metadata": {
    "id": "C8ewbr1AgG9F"
   },
   "outputs": [],
   "source": [
    "a1D = np.array([0, 1, 2, 3, 4])\n",
    "a2D = np.array([[1, 2], [3, 4]])\n",
    "a3D = np.array([[[1, 2], [3, 4]],\n",
    "                [[5, 6], [7, 8]]])\n",
    "print(a1D) \n",
    "print(a2D[0])\n",
    "print(a3D)"
   ]
  },
  {
   "cell_type": "code",
   "execution_count": null,
   "metadata": {
    "id": "-uWaiBDvgIwk"
   },
   "outputs": [],
   "source": [
    "import pandas as pd\n",
    "import matplotlib.pyplot as plt"
   ]
  },
  {
   "cell_type": "markdown",
   "metadata": {
    "id": "sfTNpq3igPkM"
   },
   "source": [
    "\n",
    "**2. Variable types** \n",
    "---\n",
    "---\n"
   ]
  },
  {
   "cell_type": "code",
   "execution_count": null,
   "metadata": {
    "colab": {
     "base_uri": "https://localhost:8080/",
     "height": 112
    },
    "id": "XeQ3M5RakaPx",
    "outputId": "16a3b736-13c9-429a-d4c0-e4f4bb291114"
   },
   "outputs": [],
   "source": [
    "# numeric (int, float, complex, boolean), \n",
    "b1 = 5.1 # float\n",
    "b2 = 5 # int\n",
    "b3 = 1<2 # boolean\n",
    "print(b1, ' is',type(b1), '\\n')\n",
    "print(b2, ' is',type(b2), '\\n')\n",
    "print(b3, ' is',type(b3), '\\n')"
   ]
  },
  {
   "cell_type": "code",
   "execution_count": null,
   "metadata": {
    "colab": {
     "base_uri": "https://localhost:8080/",
     "height": 112
    },
    "id": "XeQ3M5RakaPx",
    "outputId": "16a3b736-13c9-429a-d4c0-e4f4bb291114"
   },
   "outputs": [],
   "source": [
    "# lists \n",
    "c = ['karin', 'sasaki', 345.453]\n",
    "print(c, ' is', type(c), '\\n')"
   ]
  },
  {
   "cell_type": "code",
   "execution_count": null,
   "metadata": {
    "colab": {
     "base_uri": "https://localhost:8080/",
     "height": 112
    },
    "id": "XeQ3M5RakaPx",
    "outputId": "16a3b736-13c9-429a-d4c0-e4f4bb291114"
   },
   "outputs": [],
   "source": [
    "# strings \n",
    "print(c[0], ' is',type(c[0]), '\\n')"
   ]
  },
  {
   "cell_type": "code",
   "execution_count": null,
   "metadata": {
    "colab": {
     "base_uri": "https://localhost:8080/",
     "height": 112
    },
    "id": "XeQ3M5RakaPx",
    "outputId": "16a3b736-13c9-429a-d4c0-e4f4bb291114"
   },
   "outputs": [],
   "source": [
    "# tuples\n",
    "d = (123, 'john')\n",
    "print(d, ' is', type(d), '\\n')"
   ]
  },
  {
   "cell_type": "code",
   "execution_count": null,
   "metadata": {
    "colab": {
     "base_uri": "https://localhost:8080/",
     "height": 112
    },
    "id": "XeQ3M5RakaPx",
    "outputId": "16a3b736-13c9-429a-d4c0-e4f4bb291114"
   },
   "outputs": [],
   "source": [
    "# dictionaries\n",
    "e = {'name': 'marcie','code':63214, 'dept': 'mathematics'}\n",
    "print(e, ' is', type(e), '\\n')"
   ]
  },
  {
   "cell_type": "code",
   "execution_count": null,
   "metadata": {
    "colab": {
     "base_uri": "https://localhost:8080/",
     "height": 112
    },
    "id": "XeQ3M5RakaPx",
    "outputId": "16a3b736-13c9-429a-d4c0-e4f4bb291114"
   },
   "outputs": [],
   "source": [
    "# Numpy array\n",
    "f = np.array([1,2,3,4,5])\n",
    "print(f, ' is', type(f), '\\n')"
   ]
  },
  {
   "cell_type": "code",
   "execution_count": null,
   "metadata": {
    "colab": {
     "base_uri": "https://localhost:8080/",
     "height": 112
    },
    "id": "XeQ3M5RakaPx",
    "outputId": "16a3b736-13c9-429a-d4c0-e4f4bb291114"
   },
   "outputs": [],
   "source": [
    "# note this is different form the list\n",
    "h = [1,2,3,4,5]\n",
    "print(h, ' is', type(h), '\\n')"
   ]
  },
  {
   "cell_type": "markdown",
   "metadata": {
    "id": "SPgkDPj6i3Ey"
   },
   "source": [
    "\n",
    "***3. Reading and writing text and binary files***\n",
    "---\n",
    "Write in text files\n",
    "---\n",
    "*open()* : Function. No module is required to be imported for this function.\n",
    "1. File in the same directory as the python program file or full address of the file (r\"file_name\")\n",
    "2. Acess mode: **r**,  **r+**, **w**, **w+**, **a**, **x**\n",
    "\n",
    "Example: object = open(\"file.txt\", \"r\")\n",
    "\n",
    "Note: The r is placed before filename to prevent the characters in filename string to be treated as special character. \n",
    "\n",
    "\n",
    "Two ways to write in a file:\n",
    "\n",
    "*write()* : Inserts a single string.\n",
    "\n",
    "*writelines()* : Insert a list of string elements.\n",
    "\n",
    "How to specify number of decimals and string format -->\n",
    "https://docs.python.org/3/library/string.html#format-specification-mini-language\n",
    "\n",
    "\n",
    "\n",
    "---\n",
    "\n",
    "3.1. Write a message in a txt file."
   ]
  },
  {
   "cell_type": "code",
   "execution_count": null,
   "metadata": {
    "id": "qcA-Is-hwEUR"
   },
   "outputs": [],
   "source": [
    "file1 = open(\"helloWorld.txt\",\"a\")\n",
    "file1.write(\"Hello World \\n I am Hernan\")\n",
    "file1.close()"
   ]
  },
  {
   "cell_type": "markdown",
   "metadata": {
    "id": "k9StevRpkwjO"
   },
   "source": [
    "Read text files\n",
    "---\n",
    "\n",
    "There are three ways to read data from a text file.\n",
    "\n",
    "***read()*** \n",
    "\n",
    "object.*read()*: reads the entire file\n",
    "\n",
    "object.*read(n)*: reads *n* bytes\n",
    "\n",
    "***readline()*** : reads a line of the file and returns in form of a string.\n",
    "\n",
    "***readlines()***: reads all the lines and return them as each line a string element in a list.\n",
    "\n",
    "\n",
    "---\n",
    "3.4. Read a text file\n",
    "\n"
   ]
  },
  {
   "cell_type": "code",
   "execution_count": null,
   "metadata": {
    "colab": {
     "base_uri": "https://localhost:8080/"
    },
    "executionInfo": {
     "elapsed": 256,
     "status": "ok",
     "timestamp": 1634657548815,
     "user": {
      "displayName": "Lupe Villegas",
      "photoUrl": "https://lh3.googleusercontent.com/a-/AOh14GizIjhJkgxyeq2o8w3IjNcCFaIkPwc073vXbg4L=s64",
      "userId": "10273945682093136214"
     },
     "user_tz": -120
    },
    "id": "LChWO7HY2gy-",
    "outputId": "a7879d62-8e3b-4052-8af9-314dade2a3f5"
   },
   "outputs": [],
   "source": [
    "file4 = open(\"helloWorld.txt\", \"r\")\n",
    "print (file4.read())\n",
    "file4.close()"
   ]
  },
  {
   "cell_type": "code",
   "execution_count": null,
   "metadata": {
    "colab": {
     "base_uri": "https://localhost:8080/"
    },
    "executionInfo": {
     "elapsed": 272,
     "status": "ok",
     "timestamp": 1634657552409,
     "user": {
      "displayName": "Lupe Villegas",
      "photoUrl": "https://lh3.googleusercontent.com/a-/AOh14GizIjhJkgxyeq2o8w3IjNcCFaIkPwc073vXbg4L=s64",
      "userId": "10273945682093136214"
     },
     "user_tz": -120
    },
    "id": "9_QwlyjFC9nI",
    "outputId": "73b7bff6-7e1c-427d-f80c-7f801eae1157"
   },
   "outputs": [],
   "source": [
    "file4 = open(\"helloWorld.txt\", \"r\")\n",
    "print (file4.readline())\n",
    "file4.close()"
   ]
  },
  {
   "cell_type": "markdown",
   "metadata": {
    "id": "oGANy93uy5QD"
   },
   "source": [
    "Write and Read csv files\n",
    "---\n",
    "\n",
    "\n",
    "\n",
    "---\n",
    "3.9. Use *pandas* to read/write an array to a file \n",
    "\n",
    "https://pandas.pydata.org/pandas-docs/stable/user_guide/io.html#csv-text-files"
   ]
  },
  {
   "cell_type": "code",
   "execution_count": null,
   "metadata": {
    "id": "dx8xRM5jnIQq"
   },
   "outputs": [],
   "source": [
    "#read a data frame from csv file\n",
    "df_data = pd.read_csv('SortedNuclei.csv')\n",
    "df_data"
   ]
  },
  {
   "cell_type": "markdown",
   "metadata": {
    "id": "IzwcNd5D1wm8"
   },
   "source": [
    "Handling the Current Working Directory\n",
    "---\n",
    "\n",
    "***os.path*** : function of the operating system module to manipulate paths. \n",
    "\n",
    "---\n",
    "\n",
    "Current Working Directory (CWD): directory where your are operating. \n",
    "*   Whenever you can call the files only by their name. \n",
    "*   Folder where the Python script is running.\n",
    "\n",
    "https://docs.python.org/3/library/os.html\n",
    "\n",
    "\n",
    "3.10. Get the location of your Current Working Directory (CWD)"
   ]
  },
  {
   "cell_type": "code",
   "execution_count": null,
   "metadata": {
    "id": "4-q9hFvZnM9V"
   },
   "outputs": [],
   "source": [
    "import os\n",
    "parent_dir= os.getcwd()"
   ]
  },
  {
   "cell_type": "markdown",
   "metadata": {
    "id": "lm6L8xNw7rPf"
   },
   "source": [
    "3.11. Open a file using the path      \n"
   ]
  },
  {
   "cell_type": "code",
   "execution_count": null,
   "metadata": {
    "id": "660KMnwp7rCQ"
   },
   "outputs": [],
   "source": [
    "name_file = \"SortedNuclei.csv\"     \n",
    "path_temp = os.path.join(parent_dir, name_file)\n",
    "pd.read_csv(path_temp)"
   ]
  },
  {
   "cell_type": "markdown",
   "metadata": {
    "id": "l3NC1dD6-LVn"
   },
   "source": [
    "#4.Working with data tables\n",
    "**4. Working with data tables** \n",
    "---\n",
    "4.0. Playing with arrays, list, dictionaries\n",
    "---\n",
    "Array vs list \n",
    "\n",
    "https://favtutor.com/blogs/python-array-vs-list\n"
   ]
  },
  {
   "cell_type": "code",
   "execution_count": null,
   "metadata": {
    "id": "gYN6Q3EKfAeU"
   },
   "outputs": [],
   "source": [
    "#Create a array\n",
    "ones = np.ones(3)"
   ]
  },
  {
   "cell_type": "code",
   "execution_count": null,
   "metadata": {
    "id": "AurJv9jEfRPP"
   },
   "outputs": [],
   "source": [
    "# Creating a list  \n",
    "sample_list = [25,\"temperatures\",['day1','day2']] \n",
    "print(sample_list)"
   ]
  },
  {
   "cell_type": "code",
   "execution_count": null,
   "metadata": {
    "colab": {
     "base_uri": "https://localhost:8080/"
    },
    "executionInfo": {
     "elapsed": 314,
     "status": "ok",
     "timestamp": 1634562895322,
     "user": {
      "displayName": "Lupe Villegas",
      "photoUrl": "https://lh3.googleusercontent.com/a-/AOh14GizIjhJkgxyeq2o8w3IjNcCFaIkPwc073vXbg4L=s64",
      "userId": "10273945682093136214"
     },
     "user_tz": -120
    },
    "id": "KZHp_fwMfzer",
    "outputId": "215cc610-bcfa-491c-e88c-6af111234a2b"
   },
   "outputs": [],
   "source": [
    "# Creating a dictionary\n",
    "sample_dict = {\n",
    "  \"Temperature\": [\"Centigrades\", \"Fahrenheit\"],\n",
    "  \"Experiment\": \"1\",\n",
    "  \"year\": 2021\n",
    "}\n",
    "#sample_dict\n",
    "print(sample_dict[\"Temperature\"])"
   ]
  },
  {
   "cell_type": "markdown",
   "metadata": {
    "id": "ZX9Oigag_XPO"
   },
   "source": [
    "---\n",
    "4.1. Basic statistics\n",
    "---\n",
    "https://numpy.org/doc/stable/reference/routines.statistics.html\n",
    "\n",
    "https://docs.python.org/3/tutorial/datastructures.html\n",
    "\n",
    "Use numpy: \n",
    "\n",
    "***mean***: Compute the arithmetic mean along the specified axis.\n",
    "\n",
    "***median***: Compute the median along the specified axis\n",
    "\n",
    "***var***: Compute the variance along the specified axis.\n",
    "\n",
    "***std***: Compute the standard deviation along the specified axis.\n",
    "\n",
    "***amin*** Return the minimum of an array or minimum along an axis.\n",
    "\n",
    "***amax***: Return the maximum of an array or maximum along an axis.\n",
    "\n",
    "Example: Open a file and get basic statics of a dataset\n"
   ]
  },
  {
   "cell_type": "code",
   "execution_count": null,
   "metadata": {
    "id": "anCSp_LegmLE"
   },
   "outputs": [],
   "source": [
    "#path of the file\n",
    "import os\n",
    "import numpy as np\n",
    "parent_dir = os.getcwd()\n",
    "name_file = \"wine.csv\"     \n",
    "path_wine = os.path.join(parent_dir, name_file)\n",
    "\n",
    "##define lists\n",
    "wine = []\n",
    "alcohol =[]\n",
    "phenols = []\n",
    "flavonoids = []\n",
    "all_data_wine = []\n",
    "\n",
    "## open the file, read the lines, and split the columns into lists\n",
    "file_wine = open(path_wine)\n",
    "data = file_wine.read().splitlines()\n",
    "for i in range(1, len(data)):\n",
    "    data_split = data[i].split(',')\n",
    "    wine.append(float(data_split[0]))\n",
    "    alcohol.append(float(data_split[1]))\n",
    "    phenols.append(float(data_split[6]))\n",
    "    flavonoids.append(float(data_split[7]))\n",
    "  \n",
    "    all_data_wine.append(np.asarray(data_split, dtype=np.float64))\n",
    "    \n",
    "file_wine.close()\n",
    "\n"
   ]
  },
  {
   "cell_type": "code",
   "execution_count": null,
   "metadata": {
    "colab": {
     "base_uri": "https://localhost:8080/"
    },
    "id": "PSph364zERcl",
    "outputId": "7b6e6041-4471-483b-8c6f-401d29c3e39d"
   },
   "outputs": [],
   "source": [
    "#Mean/Median/Variance/STD/ of arrays\n",
    "print('alcohol:', round(np.mean(alcohol),2), 'std:', round(np.std(alcohol),2))\n",
    "print('phenols :',round(np.mean(phenols),2), 'std:', round(np.std(phenols),2))\n",
    "print('flavonoids:', round(np.mean(flavonoids),2), 'std:',round(np.std(flavonoids),2))\n",
    "print('median and var of alcohol:', np.median(alcohol),'var:', np.var(alcohol))\n",
    "\n",
    "print('Characterists:', header_wine[6:8])\n",
    "print('Mean of all:  ', np.round(np.mean(all_data_wine, axis=0)[6:8],2))\n",
    "print('Std of all:  ', np.round(np.std(all_data_wine, axis=0)[6:8],2))\n",
    "#print('Mean of rows:', np.mean(all_data_wine, axis=1)[0:6])"
   ]
  },
  {
   "cell_type": "markdown",
   "metadata": {
    "id": "XTUHQeQDzyXB"
   },
   "source": [
    " \n",
    "---\n",
    "4.2. Ploting with matplotlib\n",
    "---\n",
    "https://matplotlib.org/stable/tutorials/introductory/sample_plots.html\n",
    "\n",
    "***matplotlib.pyplot*** collection of functions. We can create a figure, a \n",
    "plotting area, plot points, plot lines, and decorate.\n",
    "\n",
    "https://matplotlib.org/stable/tutorials/introductory/pyplot.html#sphx-glr-tutorials-introductory-pyplot-py\n",
    "\n",
    "Example: Plot two arrays in a figure"
   ]
  },
  {
   "cell_type": "code",
   "execution_count": null,
   "metadata": {
    "colab": {
     "base_uri": "https://localhost:8080/",
     "height": 302
    },
    "executionInfo": {
     "elapsed": 341,
     "status": "ok",
     "timestamp": 1634661325434,
     "user": {
      "displayName": "Lupe Villegas",
      "photoUrl": "https://lh3.googleusercontent.com/a-/AOh14GizIjhJkgxyeq2o8w3IjNcCFaIkPwc073vXbg4L=s64",
      "userId": "10273945682093136214"
     },
     "user_tz": -120
    },
    "id": "-0GQgYg82SMZ",
    "outputId": "1f6afdce-8a3d-4977-f239-19b7a2b02868"
   },
   "outputs": [],
   "source": [
    "import matplotlib.pyplot as plt\n",
    "\n",
    "plt.plot(wine, alcohol, '.', markersize=5, mfc='black', mec='gray', alpha=0.5 )\n",
    "\n",
    "plt.title('Wine-alcohol', fontsize=16)\n",
    "plt.xlabel('Wine type', fontsize=16)\n",
    "plt.ylabel('Alcohol (%)', fontsize=16)\n",
    "plt.show()"
   ]
  },
  {
   "cell_type": "code",
   "execution_count": null,
   "metadata": {
    "colab": {
     "base_uri": "https://localhost:8080/",
     "height": 287
    },
    "executionInfo": {
     "elapsed": 312,
     "status": "ok",
     "timestamp": 1634661419119,
     "user": {
      "displayName": "Lupe Villegas",
      "photoUrl": "https://lh3.googleusercontent.com/a-/AOh14GizIjhJkgxyeq2o8w3IjNcCFaIkPwc073vXbg4L=s64",
      "userId": "10273945682093136214"
     },
     "user_tz": -120
    },
    "id": "-eytIAXXMSbx",
    "outputId": "947b3f00-a64f-4208-d1bb-41d45df97337"
   },
   "outputs": [],
   "source": [
    "#histogram plots\n",
    "plt.hist(x=phenols, bins=4, color='b', alpha=0.7, rwidth=0.9)\n",
    "plt.grid(axis='y', linestyle='--', alpha=0.65)\n",
    "plt.xlabel('alcohol(%)', fontsize=16)\n",
    "plt.show()"
   ]
  },
  {
   "cell_type": "code",
   "execution_count": null,
   "metadata": {
    "colab": {
     "base_uri": "https://localhost:8080/",
     "height": 284
    },
    "executionInfo": {
     "elapsed": 632,
     "status": "ok",
     "timestamp": 1634663908107,
     "user": {
      "displayName": "Lupe Villegas",
      "photoUrl": "https://lh3.googleusercontent.com/a-/AOh14GizIjhJkgxyeq2o8w3IjNcCFaIkPwc073vXbg4L=s64",
      "userId": "10273945682093136214"
     },
     "user_tz": -120
    },
    "id": "H52c4KemRsUH",
    "outputId": "d2fabfdd-e883-4e39-cd15-b135cc653dbf"
   },
   "outputs": [],
   "source": [
    "#Make own bins histogram and save my figure\n",
    "name_MyGraph = 'my_histogram.png'\n",
    "path_mygraph = os.path.join(parent_dir, name_MyGraph)\n",
    "\n",
    "plt.hist(x=flavonoids, bins=[1,2,3,4], color='r', alpha=0.7, rwidth=0.9)\n",
    "plt.grid(axis='y', ls='--', alpha=0.65)\n",
    "plt.xlabel('flavonoids(%)', fontsize=16)\n",
    "plt.savefig(path_mygraph)  ##save my figure\n",
    "plt.show()\n"
   ]
  },
  {
   "cell_type": "code",
   "execution_count": null,
   "metadata": {
    "colab": {
     "base_uri": "https://localhost:8080/",
     "height": 284
    },
    "executionInfo": {
     "elapsed": 297,
     "status": "ok",
     "timestamp": 1634663995411,
     "user": {
      "displayName": "Lupe Villegas",
      "photoUrl": "https://lh3.googleusercontent.com/a-/AOh14GizIjhJkgxyeq2o8w3IjNcCFaIkPwc073vXbg4L=s64",
      "userId": "10273945682093136214"
     },
     "user_tz": -120
    },
    "id": "z04-QsVcjx2K",
    "outputId": "897367c2-82aa-42ae-b19d-c8b4e5ca092c"
   },
   "outputs": [],
   "source": [
    "#histogram plots\n",
    "mybins = np.arange(10.5,15.5, 0.8)\n",
    "shift = 0.4\n",
    "n_out, bins_out, patches = plt.hist(x=alcohol, bins=mybins, color='b', alpha=0.7, rwidth=0.8)\n",
    "plt.plot(mybins[1:len(mybins)]-shift, n_out, lw =2, c ='m')\n",
    "plt.xlabel('alcohol(%)', fontsize=16)\n",
    "plt.show()"
   ]
  },
  {
   "cell_type": "code",
   "execution_count": null,
   "metadata": {
    "colab": {
     "base_uri": "https://localhost:8080/",
     "height": 302
    },
    "id": "QBo0UV132qIe",
    "outputId": "72051f2e-c95f-4a7a-b919-608c752c924f"
   },
   "outputs": [],
   "source": [
    "#Scatter plot\n",
    "\n",
    "plt.plot(phenols, flavonoids, 's', markersize=5, c='g', alpha=0.6)\n",
    "plt.plot(phenols[0:50], flavonoids[0:50], 's', markersize=5, c='r', alpha=0.5)\n",
    "plt.plot(phenols[100:178], flavonoids[100:178], 's', markersize=5, c='y', alpha=1)\n",
    "\n",
    "plt.title('Phenols-flavonoids', fontsize=16)\n",
    "plt.xlabel('Phenols (mg/L)', fontsize=16)\n",
    "plt.ylabel('Flavonoids (mg/L)', fontsize=16)\n",
    "\n",
    "plt.show()"
   ]
  },
  {
   "cell_type": "markdown",
   "metadata": {
    "id": "BQuFjVPidVVD"
   },
   "source": [
    "---\n",
    "4.4. Ploting images\n",
    "---\n",
    "\n",
    "Using ***matplotlib.image*** \n",
    "\n",
    "https://matplotlib.org/stable/api/image_api.html?highlight=image#module-matplotlib.image"
   ]
  },
  {
   "cell_type": "code",
   "execution_count": null,
   "metadata": {
    "colab": {
     "base_uri": "https://localhost:8080/",
     "height": 269
    },
    "executionInfo": {
     "elapsed": 1081,
     "status": "ok",
     "timestamp": 1634664445505,
     "user": {
      "displayName": "Lupe Villegas",
      "photoUrl": "https://lh3.googleusercontent.com/a-/AOh14GizIjhJkgxyeq2o8w3IjNcCFaIkPwc073vXbg4L=s64",
      "userId": "10273945682093136214"
     },
     "user_tz": -120
    },
    "id": "RAHAY9FXdULd",
    "outputId": "5fda7366-ba36-48ee-d6a8-5e5b19335906"
   },
   "outputs": [],
   "source": [
    "import matplotlib\n",
    "import matplotlib.pyplot as plt\n",
    "import matplotlib.image as mpimg\n",
    "\n",
    "img = mpimg.imread('dogs.png')\n",
    "imgplot = plt.imshow(img)"
   ]
  },
  {
   "cell_type": "code",
   "execution_count": null,
   "metadata": {
    "colab": {
     "base_uri": "https://localhost:8080/",
     "height": 262
    },
    "executionInfo": {
     "elapsed": 889,
     "status": "ok",
     "timestamp": 1634664451930,
     "user": {
      "displayName": "Lupe Villegas",
      "photoUrl": "https://lh3.googleusercontent.com/a-/AOh14GizIjhJkgxyeq2o8w3IjNcCFaIkPwc073vXbg4L=s64",
      "userId": "10273945682093136214"
     },
     "user_tz": -120
    },
    "id": "6QzDGNb_7OR9",
    "outputId": "2452ea40-a45f-4476-ab0e-026c36555d61"
   },
   "outputs": [],
   "source": [
    "#Enhancing contrast by choosing one channel R, G, B\n",
    "img2 = img[:, :, 0]\n",
    "imgplot = plt.imshow(img2)\n",
    "imgplot.set_cmap('rainbow')\n",
    "plt.colorbar()\n",
    "plt.imsave('dogs_in_color.png', img2)"
   ]
  },
  {
   "cell_type": "code",
   "execution_count": null,
   "metadata": {
    "colab": {
     "base_uri": "https://localhost:8080/",
     "height": 265
    },
    "executionInfo": {
     "elapsed": 761,
     "status": "ok",
     "timestamp": 1634664497524,
     "user": {
      "displayName": "Lupe Villegas",
      "photoUrl": "https://lh3.googleusercontent.com/a-/AOh14GizIjhJkgxyeq2o8w3IjNcCFaIkPwc073vXbg4L=s64",
      "userId": "10273945682093136214"
     },
     "user_tz": -120
    },
    "id": "7IFKeCNRoWJz",
    "outputId": "1898f3d8-c928-422a-d7e1-2a3aa89693bd"
   },
   "outputs": [],
   "source": [
    "# histogram \n",
    "plt.hist(img2.flatten(), bins =50, range=(0,1))\n",
    "plt.show()\n"
   ]
  }
 ],
 "metadata": {
  "colab": {
   "collapsed_sections": [
    "UyIAUdeYpayy"
   ],
   "name": "Sesion_2_Data_analysis_with_PythonI.ipynb",
   "provenance": []
  },
  "kernelspec": {
   "display_name": "Python 3 (ipykernel)",
   "language": "python",
   "name": "python3"
  },
  "language_info": {
   "codemirror_mode": {
    "name": "ipython",
    "version": 3
   },
   "file_extension": ".py",
   "mimetype": "text/x-python",
   "name": "python",
   "nbconvert_exporter": "python",
   "pygments_lexer": "ipython3",
   "version": "3.10.9"
  }
 },
 "nbformat": 4,
 "nbformat_minor": 1
}
