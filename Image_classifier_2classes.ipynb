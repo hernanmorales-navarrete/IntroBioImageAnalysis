{
  "cells": [
    {
      "cell_type": "markdown",
      "metadata": {
        "id": "Qb1SxJiX4m3Z"
      },
      "source": [
        "# Image classifier using Convolutional Neural Network implemented in Keras"
      ]
    },
    {
      "cell_type": "markdown",
      "metadata": {
        "id": "2UuZ2SPX4m3b"
      },
      "source": [
        "- This is a tutorial on the basics for setting up an image classififier using CNN\n",
        "- These materials have been adapted from the original versions:\n",
        "    - \"Image Classifier:\" https://github.com/gsurma/image_classifier/tree/master\n"
      ]
    },
    {
      "cell_type": "markdown",
      "metadata": {
        "id": "DEQJHsrK4m3b"
      },
      "source": [
        "## 1. Importing Modules & Packages"
      ]
    },
    {
      "cell_type": "code",
      "execution_count": 6,
      "metadata": {
        "id": "AvbdDdhd4m3c",
        "outputId": "c469bc3c-81b9-484c-9501-4ca2066640a0",
        "colab": {
          "base_uri": "https://localhost:8080/"
        }
      },
      "outputs": [
        {
          "output_type": "stream",
          "name": "stdout",
          "text": [
            "Requirement already satisfied: livelossplot in /usr/local/lib/python3.10/dist-packages (0.5.5)\n",
            "Requirement already satisfied: matplotlib in /usr/local/lib/python3.10/dist-packages (from livelossplot) (3.7.1)\n",
            "Requirement already satisfied: bokeh in /usr/local/lib/python3.10/dist-packages (from livelossplot) (3.2.1)\n",
            "Requirement already satisfied: Jinja2>=2.9 in /usr/local/lib/python3.10/dist-packages (from bokeh->livelossplot) (3.1.2)\n",
            "Requirement already satisfied: contourpy>=1 in /usr/local/lib/python3.10/dist-packages (from bokeh->livelossplot) (1.1.0)\n",
            "Requirement already satisfied: numpy>=1.16 in /usr/local/lib/python3.10/dist-packages (from bokeh->livelossplot) (1.23.5)\n",
            "Requirement already satisfied: packaging>=16.8 in /usr/local/lib/python3.10/dist-packages (from bokeh->livelossplot) (23.1)\n",
            "Requirement already satisfied: pandas>=1.2 in /usr/local/lib/python3.10/dist-packages (from bokeh->livelossplot) (1.5.3)\n",
            "Requirement already satisfied: pillow>=7.1.0 in /usr/local/lib/python3.10/dist-packages (from bokeh->livelossplot) (9.4.0)\n",
            "Requirement already satisfied: PyYAML>=3.10 in /usr/local/lib/python3.10/dist-packages (from bokeh->livelossplot) (6.0.1)\n",
            "Requirement already satisfied: tornado>=5.1 in /usr/local/lib/python3.10/dist-packages (from bokeh->livelossplot) (6.3.1)\n",
            "Requirement already satisfied: xyzservices>=2021.09.1 in /usr/local/lib/python3.10/dist-packages (from bokeh->livelossplot) (2023.7.0)\n",
            "Requirement already satisfied: cycler>=0.10 in /usr/local/lib/python3.10/dist-packages (from matplotlib->livelossplot) (0.11.0)\n",
            "Requirement already satisfied: fonttools>=4.22.0 in /usr/local/lib/python3.10/dist-packages (from matplotlib->livelossplot) (4.42.0)\n",
            "Requirement already satisfied: kiwisolver>=1.0.1 in /usr/local/lib/python3.10/dist-packages (from matplotlib->livelossplot) (1.4.4)\n",
            "Requirement already satisfied: pyparsing>=2.3.1 in /usr/local/lib/python3.10/dist-packages (from matplotlib->livelossplot) (3.1.1)\n",
            "Requirement already satisfied: python-dateutil>=2.7 in /usr/local/lib/python3.10/dist-packages (from matplotlib->livelossplot) (2.8.2)\n",
            "Requirement already satisfied: MarkupSafe>=2.0 in /usr/local/lib/python3.10/dist-packages (from Jinja2>=2.9->bokeh->livelossplot) (2.1.3)\n",
            "Requirement already satisfied: pytz>=2020.1 in /usr/local/lib/python3.10/dist-packages (from pandas>=1.2->bokeh->livelossplot) (2023.3)\n",
            "Requirement already satisfied: six>=1.5 in /usr/local/lib/python3.10/dist-packages (from python-dateutil>=2.7->matplotlib->livelossplot) (1.16.0)\n",
            "Requirement already satisfied: efficientnet in /usr/local/lib/python3.10/dist-packages (1.1.1)\n",
            "Requirement already satisfied: keras-applications<=1.0.8,>=1.0.7 in /usr/local/lib/python3.10/dist-packages (from efficientnet) (1.0.8)\n",
            "Requirement already satisfied: scikit-image in /usr/local/lib/python3.10/dist-packages (from efficientnet) (0.19.3)\n",
            "Requirement already satisfied: numpy>=1.9.1 in /usr/local/lib/python3.10/dist-packages (from keras-applications<=1.0.8,>=1.0.7->efficientnet) (1.23.5)\n",
            "Requirement already satisfied: h5py in /usr/local/lib/python3.10/dist-packages (from keras-applications<=1.0.8,>=1.0.7->efficientnet) (3.9.0)\n",
            "Requirement already satisfied: scipy>=1.4.1 in /usr/local/lib/python3.10/dist-packages (from scikit-image->efficientnet) (1.10.1)\n",
            "Requirement already satisfied: networkx>=2.2 in /usr/local/lib/python3.10/dist-packages (from scikit-image->efficientnet) (3.1)\n",
            "Requirement already satisfied: pillow!=7.1.0,!=7.1.1,!=8.3.0,>=6.1.0 in /usr/local/lib/python3.10/dist-packages (from scikit-image->efficientnet) (9.4.0)\n",
            "Requirement already satisfied: imageio>=2.4.1 in /usr/local/lib/python3.10/dist-packages (from scikit-image->efficientnet) (2.31.1)\n",
            "Requirement already satisfied: tifffile>=2019.7.26 in /usr/local/lib/python3.10/dist-packages (from scikit-image->efficientnet) (2023.7.18)\n",
            "Requirement already satisfied: PyWavelets>=1.1.1 in /usr/local/lib/python3.10/dist-packages (from scikit-image->efficientnet) (1.4.1)\n",
            "Requirement already satisfied: packaging>=20.0 in /usr/local/lib/python3.10/dist-packages (from scikit-image->efficientnet) (23.1)\n"
          ]
        }
      ],
      "source": [
        "!pip install livelossplot\n",
        "!pip install efficientnet\n",
        "%matplotlib inline\n",
        "import matplotlib.pyplot as plt\n",
        "import matplotlib.image as mpimg\n",
        "from keras.preprocessing.image import ImageDataGenerator\n",
        "from keras.models import Sequential\n",
        "from keras.optimizers import RMSprop\n",
        "from keras.layers import Dense, Flatten, GlobalMaxPooling2D\n",
        "from keras.callbacks import CSVLogger\n",
        "from livelossplot.keras import PlotLossesCallback\n",
        "import efficientnet.keras as efn"
      ]
    },
    {
      "cell_type": "code",
      "source": [
        "from google.colab import drive\n",
        "drive.mount('/content/drive')"
      ],
      "metadata": {
        "id": "iCeQohmo4unJ",
        "outputId": "2e7bd51e-d339-4b5c-87fe-beac11a698c5",
        "colab": {
          "base_uri": "https://localhost:8080/"
        }
      },
      "execution_count": 7,
      "outputs": [
        {
          "output_type": "stream",
          "name": "stdout",
          "text": [
            "Mounted at /content/drive\n"
          ]
        }
      ]
    },
    {
      "cell_type": "markdown",
      "metadata": {
        "id": "jP37PElt4m3d"
      },
      "source": [
        "## 2. Loading Image Data"
      ]
    },
    {
      "cell_type": "code",
      "execution_count": 9,
      "metadata": {
        "id": "tjCxRnDd4m3d",
        "outputId": "7cc0d151-1cbc-4a5f-e14f-7522547f0f36",
        "colab": {
          "base_uri": "https://localhost:8080/"
        }
      },
      "outputs": [
        {
          "output_type": "stream",
          "name": "stdout",
          "text": [
            "/content/drive/MyDrive/IntroBioImageAnalysis-main/zebrafishData/training\n"
          ]
        }
      ],
      "source": [
        "# Create string variables for the path and the name of the file to load (r before your string creates a 'raw string')\n",
        "\n",
        "TRAINING_LOGS_FILE = \"training_logs.csv\"\n",
        "MODEL_SUMMARY_FILE = \"model_summary.txt\"\n",
        "MODEL_FILE = \"zebrafish.h5\"\n",
        "\n",
        "# Data\n",
        "path = r\"/content/drive/MyDrive/IntroBioImageAnalysis-main/zebrafishData/\"\n",
        "training_data_dir = path + \"training\"\n",
        "validation_data_dir = path + \"validation\"\n",
        "test_data_dir = path + \"test\"\n",
        "\n",
        "print(training_data_dir)"
      ]
    },
    {
      "cell_type": "code",
      "execution_count": 12,
      "metadata": {
        "id": "fUY8Lx494m3d"
      },
      "outputs": [],
      "source": [
        "# Hyperparams\n",
        "IMAGE_SIZE = 200\n",
        "IMAGE_WIDTH, IMAGE_HEIGHT = IMAGE_SIZE, IMAGE_SIZE\n",
        "EPOCHS = 20\n",
        "BATCH_SIZE = 32\n",
        "TEST_SIZE = 30\n",
        "input_shape = (IMAGE_WIDTH, IMAGE_HEIGHT, 3)\n"
      ]
    },
    {
      "cell_type": "code",
      "execution_count": null,
      "metadata": {
        "id": "xNA2Hs434m3e"
      },
      "outputs": [],
      "source": [
        "# Load the image\n",
        "\n",
        "# Import the function 'imread' from the module 'skimage.io'.\n",
        "from skimage.io import imread\n",
        "\n",
        "# Alternatively :\n",
        "# from tifffile import imread\n",
        "\n",
        "img = imread(filepath)"
      ]
    },
    {
      "cell_type": "code",
      "execution_count": null,
      "metadata": {
        "id": "LqIxKC-q4m3e"
      },
      "outputs": [],
      "source": [
        "# Create function for plotting\n",
        "\n",
        "def myplt(img, title):\n",
        "    \"\"\"This function displays the input image with interpolation='none', cmap='magma' in the range of 0-255 (8-bits). \"\"\"\n",
        "    plt.imshow(img,interpolation='none',cmap='magma', vmin=0, vmax=255)\n",
        "    plt.colorbar(fraction=0.046, pad=0.04)\n",
        "    plt.title(title)\n",
        ""
      ]
    },
    {
      "cell_type": "code",
      "execution_count": null,
      "metadata": {
        "id": "qETMaxAG4m3e"
      },
      "outputs": [],
      "source": [
        "# Plot image and diplay image features\n",
        "\n",
        "print('Variable Type: ', type(img))\n",
        "print('Image data type: ', img.dtype)\n",
        "print('Image dimension: ', img.shape)\n",
        "plt.figure(figsize=(12,12))\n",
        "myplt(img, \"Membranes\")\n",
        "plt.show()\n"
      ]
    },
    {
      "cell_type": "markdown",
      "metadata": {
        "id": "U_WlyLiY4m3e"
      },
      "source": [
        "## 3. Image Preprocessing"
      ]
    },
    {
      "cell_type": "markdown",
      "metadata": {
        "id": "TR-kTjnX4m3f"
      },
      "source": [
        "### Image Filtering\n",
        "\n",
        "- Removing noise and preserving the structures of interest.\n",
        "\n",
        "- Genereal noised reduction (smoothing) using a `Gaussian filter`\n",
        "\n",
        "- Gaussian Smoothing : Gaussian kernel is determined by the standard deviation ($\\sigma$) of the Gaussian distribution\n",
        "- $\\sigma$ : large enough to blur out noise but small enough to keep structures of interest"
      ]
    },
    {
      "cell_type": "code",
      "execution_count": null,
      "metadata": {
        "id": "FFZFTiJd4m3f"
      },
      "outputs": [],
      "source": [
        "# Test for several values for the smoothing factor sigma\n",
        "# note: range(start_value, end_value, step)\n",
        "# Use the Gaussian filter function 'ndi.filters.gaussian_filter' from the 'scipy.ndimage'\n",
        "\n",
        "plt.figure(figsize=(16,16))\n",
        "for sigma in range(1, 5, 1):\n",
        "    img_smooth_test = ndi.filters.gaussian_filter(img, sigma)\n",
        "    plt.subplot(2,2,sigma)\n",
        "    txt = \"$\\sigma$ =\" + str(sigma)\n",
        "    myplt(img_smooth_test, txt)\n",
        ""
      ]
    },
    {
      "cell_type": "code",
      "execution_count": null,
      "metadata": {
        "id": "SEDVJmNy4m3f"
      },
      "outputs": [],
      "source": [
        "# 'Zoom-in' a specific region of the image\n",
        "\n",
        "plt.figure(figsize=(12,12))\n",
        "for sigma in range(1, 5, 1):\n",
        "    img_smooth_test = ndi.filters.gaussian_filter(img[150:200, 150:200], sigma)\n",
        "    plt.subplot(2,2,sigma)\n",
        "    txt = \"$\\sigma$ =\" + str(sigma)\n",
        "    myplt(img_smooth_test, txt)\n"
      ]
    },
    {
      "cell_type": "code",
      "execution_count": null,
      "metadata": {
        "id": "s81i3_DZ4m3f"
      },
      "outputs": [],
      "source": [
        "# Function to plot pairs of images\n",
        "\n",
        "def pltPair(img1, img2, title1, title2, cmap1, cmap2, lim):\n",
        "    \"\"\"This function displays a pair of input image with interpolation='none',in the range of lims. \"\"\"\n",
        "\n",
        "    plt.figure(figsize=(16,16))\n",
        "    plt.subplot(1,2,1)\n",
        "    plt.imshow(img1, interpolation='none', cmap=cmap1, vmin=lim[0], vmax=lim[1])\n",
        "    plt.title(title1)\n",
        "    plt.colorbar(fraction=0.046, pad=0.04)\n",
        "    plt.subplot(1,2,2)\n",
        "    plt.imshow(img2, interpolation='none', cmap=cmap2, vmin=lim[2], vmax=lim[3])\n",
        "    plt.title(title2)\n",
        "    plt.colorbar(fraction=0.046, pad=0.04)\n",
        "    plt.show()"
      ]
    },
    {
      "cell_type": "code",
      "execution_count": null,
      "metadata": {
        "id": "t8RivzMS4m3f"
      },
      "outputs": [],
      "source": [
        "#  Show the raw and smoothed images side by side using 'plt.subplots'\n",
        "\n",
        "sigma = 1\n",
        "img_smooth = ndi.filters.gaussian_filter(img, sigma)\n",
        "\n",
        "pltPair(img, img_smooth, 'Raw Image', 'Smoothed Image with '+\"$\\sigma$ =\" + str(sigma), 'magma', 'magma', [0,255,0,255])"
      ]
    },
    {
      "cell_type": "markdown",
      "metadata": {
        "id": "dJks-M424m3f"
      },
      "source": [
        "## 4. Foreground detection"
      ]
    },
    {
      "cell_type": "markdown",
      "metadata": {
        "id": "BzvSTCGc4m3g"
      },
      "source": [
        "#### Manual Thresholding"
      ]
    },
    {
      "cell_type": "code",
      "execution_count": null,
      "metadata": {
        "id": "gyzAGGvg4m3g"
      },
      "outputs": [],
      "source": [
        "# (i) Create a variable for a manually set threshold, which should be an integer\n",
        "\n",
        "thres = 70\n",
        "\n",
        "mem = img_smooth > thres\n",
        "print('Thresholded image is type : ', mem.dtype)\n",
        "\n",
        "pltPair(img_smooth, mem, 'Smoothed Image', 'Thresholded Membranes with thres =' + str(thres), 'magma', 'gray', [0,255,0,1])\n",
        "\n"
      ]
    },
    {
      "cell_type": "code",
      "execution_count": null,
      "metadata": {
        "id": "b1hPZWrw4m3g"
      },
      "outputs": [],
      "source": [
        "# Try out different thresholds to find the best one using 'widgets' for interactive selection\n",
        "\n",
        "# Prepare widget\n",
        "from ipywidgets import interact\n",
        "@interact(thresh=(10,250,10))\n",
        "def select_threshold(thresh=100):\n",
        "\n",
        "    # Thresholding\n",
        "    mem = img_smooth > thresh\n",
        "\n",
        "    # Visualization\n",
        "    pltPair(img_smooth, mem, 'Smoothed Image', 'Thresholded Membranes with thresh =' + str(thresh), 'magma', 'gray', [0,255,0,1])\n",
        "\n"
      ]
    },
    {
      "cell_type": "markdown",
      "metadata": {
        "id": "7LtMswH44m3g"
      },
      "source": [
        "----\n",
        "\n",
        "*For some users, it is necessary to specifically activate the widgets plugin for Jupyter notebook. To do so, save and exit Jupyter notebook, then go to a terminal and write `jupyter nbextension enable --py --sys-prefix widgetsnbextension`."
      ]
    },
    {
      "cell_type": "markdown",
      "metadata": {
        "id": "a4C4HLZF4m3g"
      },
      "source": [
        "#### Automatic Thresholding\n",
        "\n",
        "- There are several algorithm for autoimatic thrshold detection\n",
        "- 'skimage.filters.thresholding' provides several threshold detection algorithms\n",
        "- One of the most popular : Otsu's method."
      ]
    },
    {
      "cell_type": "code",
      "execution_count": null,
      "metadata": {
        "id": "zUszTAGl4m3g"
      },
      "outputs": [],
      "source": [
        "# Import\n",
        "from skimage.filters.thresholding import threshold_otsu\n",
        "\n",
        "# Calculate and apply threshold\n",
        "thresh = threshold_otsu(img_smooth)\n",
        "mem = img_smooth > thresh\n",
        "print('Throshold by Otsu = ', str(thresh))\n",
        "\n",
        "# Visualization\n",
        "pltPair(img_smooth, mem, 'Smoothed Image', 'Thresholded Membranes with Otsu', 'magma', 'gray', [0,255,0,1])\n",
        "\n"
      ]
    },
    {
      "cell_type": "code",
      "execution_count": null,
      "metadata": {
        "id": "AuUbcqE44m3g"
      },
      "outputs": [],
      "source": [
        "# You can asl try all algorithms aviable in 'skimage.filters.thresholding'\n",
        "from skimage.filters.thresholding import try_all_threshold\n",
        "fig = try_all_threshold(img_smooth, figsize=(12,12), verbose=False)"
      ]
    },
    {
      "cell_type": "markdown",
      "metadata": {
        "id": "R9llknJD4m3h"
      },
      "source": [
        "#### Adaptive Thresholding\n",
        "\n",
        "- Adaptive thresholding algorithm, which adjusts the threshold locally in different regions of the image to account for varying intensities\n",
        "- scikit-image provides a function for adaptive thresholding called threshold_local\n",
        "- Here step by step :\n",
        "    - Generation of a \"background image\"\n",
        "    - Thresholding of the original image with the background"
      ]
    },
    {
      "cell_type": "code",
      "execution_count": null,
      "metadata": {
        "id": "5UPBi70u4m3h"
      },
      "outputs": [],
      "source": [
        "# Generation of a \"background image\"\n",
        "\n",
        "# Generate a blurred image with large sigma\n",
        "largeSigma = 19\n",
        "bg = ndi.filters.gaussian_filter(img_smooth, largeSigma)\n",
        "\n",
        "# Vizualization\n",
        "pltPair(img_smooth, bg, 'Smoothed Image', 'Background image', 'magma', 'magma', [0,255,0,255])"
      ]
    },
    {
      "cell_type": "code",
      "execution_count": null,
      "metadata": {
        "id": "IZ3NPpU04m3h"
      },
      "outputs": [],
      "source": [
        "# Threshold the smoothed original image against the background image\n",
        "\n",
        "mem = img_smooth > bg\n",
        "\n",
        "# Visualization\n",
        "pltPair(img_smooth, mem, 'Smoothed Image', 'Adaptative Threshold', 'magma', 'gray', [0,255,0,1])\n",
        "\n"
      ]
    },
    {
      "cell_type": "markdown",
      "metadata": {
        "id": "aMQK_oHb4m3h"
      },
      "source": [
        "## 5. Binary Morphological operations\n",
        " - Improving masks\n",
        " - Morphological operations such as erosion, dilation, closing and opening\n",
        " - Fill small holes, remove noise, increase or decrease the size of an object\n",
        " - Simple kernel functions that are applied at each pixel of the image based on their neighborhood as defined by a structuring element (SE)\n",
        " - Dilation assigns to the central pixel the maximum pixel value within the neighborhood (maximun filter)\n",
        " - Erosion is a minimum filter."
      ]
    },
    {
      "cell_type": "code",
      "execution_count": null,
      "metadata": {
        "id": "Q3vw53Ga4m3h"
      },
      "outputs": [],
      "source": [
        "# Remove speckles using binary hole filling\n",
        "\n",
        "# Use the function 'ndi.binary_fill_holes' for this. Be sure to check the docs to\n",
        "# understand exactly what it does. For this to work as intended, you will have to\n",
        "# invert the mask, which you can do using the function `np.logical_not` or the\n",
        "# corresponding operator '~'. Again, be sure to understand why this has to be done\n",
        "# and don't forget to revert the result back.\n",
        "\n",
        "#mem_holefilled = np.logical_not(ndi.binary_fill_holes(np.logical_not(mem)))  # Long form\n",
        "mem_final = ~ndi.binary_fill_holes(~mem)  # Short form\n",
        "\n",
        "# Visualization\n",
        "pltPair(mem, mem_final, 'Binary Image', 'Binary Image after filling holes', 'gray', 'gray', [0,1,0,1])\n"
      ]
    },
    {
      "cell_type": "markdown",
      "metadata": {
        "id": "ujCi9VDe4m3h"
      },
      "source": [
        "## 6. Cells segmentation"
      ]
    },
    {
      "cell_type": "markdown",
      "metadata": {
        "id": "wO-p424z4m3h"
      },
      "source": [
        "###  Connected Components Labeling\n",
        "\n",
        "- Goal identify individual cells as single objects (with unique ID)\n",
        "- Using 'connected components labeling'. It gives every connected group of foreground pixels a unique ID number."
      ]
    },
    {
      "cell_type": "code",
      "execution_count": null,
      "metadata": {
        "id": "p5sYcfjT4m3h"
      },
      "outputs": [],
      "source": [
        "# Label connected components\n",
        "\n",
        "# Use the function 'ndi.label' from the 'ndimage' module.\n",
        "\n",
        "cell_labels, _ = ndi.label(~mem_final)\n",
        "\n",
        "iMax = cell_labels.max();\n",
        "print(str(iMax), ' cells detected')\n",
        "pltPair(mem_final, cell_labels,'Membranes', 'Cell Labels', 'gray', 'jet', [0,1,0,iMax])"
      ]
    },
    {
      "cell_type": "markdown",
      "metadata": {
        "id": "iaD_rB-l4m3i"
      },
      "source": [
        "### Seeding and Expansion\n",
        "\n",
        "- Expansion algorithms such as the watershed start from a small seed and \"grow outward\" until they touch the boundaries of neighboring cells"
      ]
    },
    {
      "cell_type": "markdown",
      "metadata": {
        "id": "TjlUQ1S34m3i"
      },
      "source": [
        "#### Seeding by Distance Transform\n",
        "- A `seed image` contains a few pixels at the center of each cell labeled by a unique `ID` number\n",
        "- If Nuclei image is avaible, use it as seeds\n",
        "- Alternatively:  `distance transform` and `local maxima` for seeding"
      ]
    },
    {
      "cell_type": "code",
      "execution_count": null,
      "metadata": {
        "scrolled": true,
        "id": "UZ030kxW4m3i"
      },
      "outputs": [],
      "source": [
        "# Run a distance transform on the membrane mask\n",
        "# Use the function 'ndi.distance_transform_edt'.\n",
        "\n",
        "dist_trans = ndi.distance_transform_edt(~mem_final)\n",
        "dMax = dist_trans.max();\n",
        "pltPair(mem_final, dist_trans,'Membranes', 'Distance Transform', 'gray', 'magma', [0,1,0,dMax])"
      ]
    },
    {
      "cell_type": "code",
      "execution_count": null,
      "metadata": {
        "id": "Ym7NP-rk4m3i"
      },
      "outputs": [],
      "source": [
        "# Smoothen the distance transform\n",
        "\n",
        "dist_trans_smooth = ndi.filters.gaussian_filter(dist_trans, sigma=5)\n",
        "dMax = dist_trans_smooth.max();\n",
        "pltPair(mem_final, dist_trans_smooth,'Membranes', 'Distance Transform Smooth', 'gray', 'magma', [0,1,0,dMax])\n"
      ]
    },
    {
      "cell_type": "code",
      "execution_count": null,
      "metadata": {
        "id": "OkbwJLhJ4m3i"
      },
      "outputs": [],
      "source": [
        "# Get the local maxima from the distance transform\n",
        "# Use the function 'peak_local_max' from the module 'skimage.feature'.\n",
        "\n",
        "from skimage.feature import peak_local_max\n",
        "seeds = peak_local_max(dist_trans_smooth, indices=False,  min_distance=10)\n",
        "\n",
        "# Dilate seeds : for vizualization\n",
        "seeds_dil = ndi.filters.maximum_filter(seeds, size=10)\n",
        "\n",
        "pltPair(img_smooth, seeds_dil, 'Smooth image', 'Seeds', 'gray', 'jet', [0,255,0,1])"
      ]
    },
    {
      "cell_type": "code",
      "execution_count": null,
      "metadata": {
        "id": "roAb_Ps84m3i"
      },
      "outputs": [],
      "source": [
        "# Visualize the output as an overlay on the smoothed image\n",
        "\n",
        "\n",
        "plt.figure(figsize=(10,10))\n",
        "plt.imshow(img_smooth, interpolation='none', cmap='gray')\n",
        "plt.imshow(np.ma.array(seeds_dil, mask=seeds_dil==0), interpolation='none', cmap='autumn')\n",
        "plt.show()"
      ]
    },
    {
      "cell_type": "code",
      "execution_count": null,
      "metadata": {
        "id": "B367o2_p4m3i"
      },
      "outputs": [],
      "source": [
        "# Label the seeds using connected component\n",
        "\n",
        "# Use connected component labeling to give each cell seed a unique ID number.\n",
        "seeds_labeled,_ = ndi.label(seeds)\n",
        "\n",
        "# Visualize the final result\n",
        "seeds_labeled_dil = ndi.filters.maximum_filter(seeds_labeled, size=10)  # Expand a bit for visualization\n",
        "plt.figure(figsize=(10,10))\n",
        "plt.imshow(img_smooth, interpolation='none', cmap='gray')\n",
        "plt.imshow(np.ma.array(seeds_labeled_dil, mask=seeds_labeled_dil==0), interpolation='none', cmap='prism')\n",
        "plt.show()"
      ]
    },
    {
      "cell_type": "markdown",
      "metadata": {
        "id": "XwWS8c4R4m3i"
      },
      "source": [
        "#### Expansion by Watershed"
      ]
    },
    {
      "cell_type": "code",
      "execution_count": null,
      "metadata": {
        "id": "8r7VHBoF4m3i"
      },
      "outputs": [],
      "source": [
        "# Perform watershed\n",
        "# Use the function 'watershed' from the module 'skimage.morphology'.\n",
        "\n",
        "from skimage.segmentation import watershed\n",
        "ws = watershed(img_smooth, seeds_labeled)\n",
        "\n",
        "nCells0 = ws.max();\n",
        "print(str(nCells0), ' cells detected')\n",
        "pltPair(img_smooth, ws, 'Smooth image', 'Watershed', 'gray', 'jet', [0,255,0,nCells0])\n",
        "plt.show()"
      ]
    },
    {
      "cell_type": "code",
      "execution_count": null,
      "metadata": {
        "id": "IpQVrLqE4m3j"
      },
      "outputs": [],
      "source": [
        "plt.figure(figsize=(10,10))\n",
        "plt.imshow(img_smooth, interpolation='none', cmap='gray')\n",
        "plt.imshow(ws, interpolation='none', cmap='prism', alpha=0.4)\n",
        "plt.show()"
      ]
    },
    {
      "cell_type": "markdown",
      "metadata": {
        "id": "zMRELOuu4m3j"
      },
      "source": [
        "## 7. Postprocessing"
      ]
    },
    {
      "cell_type": "markdown",
      "metadata": {
        "id": "xqW4a5BP4m3j"
      },
      "source": [
        "###  Removing Cells at the Image Border"
      ]
    },
    {
      "cell_type": "code",
      "execution_count": null,
      "metadata": {
        "id": "a5X3-Qul4m3j"
      },
      "outputs": [],
      "source": [
        "# Create an image border mask\n",
        "\n",
        "border_mask = np.zeros(ws.shape, dtype=bool)\n",
        "border_mask = ndi.binary_dilation(border_mask, border_value=1)\n",
        "\n",
        "# Remove the cells at the border\n",
        "\n",
        "# Create a copy of the initial result\n",
        "clean_ws = np.copy(ws)\n",
        "\n",
        "for cell_ID in np.unique(ws):\n",
        "\n",
        "    # Create a mask that contains only the 'current' cell of the iteration\n",
        "    cell_mask = ws==cell_ID\n",
        "\n",
        "    # Use the cell mask and the border mask to test if the cell has pixels touching\n",
        "    # the image border or not.\n",
        "    cell_border_overlap = np.logical_and(cell_mask, border_mask)  # Overlap of cell mask and boundary mask\n",
        "    total_overlap_pixels = np.sum(cell_border_overlap)            # Sum overlapping pixels\n",
        "\n",
        "    # If a cell touches the image boundary, delete it by setting its pixels in the segmentation to 0.\n",
        "    if total_overlap_pixels > 0:\n",
        "        clean_ws[cell_mask] = 0\n",
        "\n",
        "# Re-label the remaining cells to keep the numbering consistent from 1 to N (with 0 as background).\n",
        "\n",
        "for new_ID, cell_ID in enumerate(np.unique(clean_ws)[1:]):  # The [1:] excludes 0 from the list (background)!\n",
        "    clean_ws[clean_ws==cell_ID] = new_ID+1                  # The same here for the +1\n",
        "\n",
        "nCells = clean_ws.max();\n",
        "print(str(nCells), ' cells detected after removing the ones at the border')\n",
        "pltPair(ws, clean_ws, 'Cells initial', 'Cells final', 'jet', 'jet', [0,255,0,nCells])\n",
        "plt.show()\n"
      ]
    },
    {
      "cell_type": "markdown",
      "metadata": {
        "id": "bzKYRahW4m3j"
      },
      "source": [
        "### Identifying Cell Edges\n",
        "\n",
        "- Create cell edge mask\n",
        "- For each cell:\n",
        "    - Erode the cell's mask by 1 pixel\n",
        "    - Using the eroded mask and the original mask, create a new mask of only the cell's edge pixels"
      ]
    },
    {
      "cell_type": "code",
      "execution_count": null,
      "metadata": {
        "id": "putqQ1eO4m3j"
      },
      "outputs": [],
      "source": [
        "# Create cell edge mask\n",
        "edges = np.zeros_like(clean_ws)\n",
        "\n",
        "# Iterate over the cell IDs\n",
        "for cell_ID in np.unique(clean_ws)[1:]:\n",
        "\n",
        "    # Erode the cell's mask by 1 pixel using 'ndi.binary_erode'\n",
        "    cell_mask = clean_ws==cell_ID\n",
        "    eroded_cell_mask = ndi.binary_erosion(cell_mask, iterations=1) #\n",
        "\n",
        "    # Create the cell edge mask using 'np.logical_xor'\n",
        "    edge_mask = np.logical_xor(cell_mask, eroded_cell_mask)\n",
        "\n",
        "    # Add the cell edge mask to the empty array generated above, labeling it with the cell's ID\n",
        "    edges[edge_mask] = cell_ID\n",
        "\n",
        "# Vizualize\n",
        "maskEdges = np.ma.array(edges, mask=edges==0)\n",
        "pltPair(img_smooth[100:200, 100:200], maskEdges[100:200, 100:200], 'Smooth image', 'Cell edges', 'gray', 'prism', [0,255,0,nCells])\n",
        "plt.show()"
      ]
    },
    {
      "cell_type": "markdown",
      "metadata": {
        "id": "37LmWDvX4m3j"
      },
      "source": [
        "## 8. Extracting Quantitative Measurements\n",
        "\n",
        "Measure different properties of cells:\n",
        "\n",
        "- Cell ID\n",
        "- Mean intensity of each cell\n",
        "- Mean intensity at the membrane of each cell\n",
        "- The cell area, i.e. the number of pixels that make up the cell\n",
        "- The cell outline length, i.e. the number of pixels that make up the cell edge\n"
      ]
    },
    {
      "cell_type": "code",
      "execution_count": null,
      "metadata": {
        "id": "KdEj_-DQ4m3j"
      },
      "outputs": [],
      "source": [
        "# Create a dictionary that contains a key-value pairing for each measurement\n",
        "\n",
        "results = {\"cell_id\"      : [],\n",
        "           \"int_mean\"     : [],\n",
        "           \"int_mem_mean\" : [],\n",
        "           \"cell_area\"    : [],\n",
        "           \"cell_edge\"    : []}\n",
        "\n",
        "\n",
        "# Run calculations for each cell\n",
        "\n",
        "for cell_id in np.unique(clean_ws)[1:]:\n",
        "\n",
        "    # Mask the current cell and cell edge\n",
        "    cell_mask = clean_ws==cell_id\n",
        "    edge_mask = edges==cell_id\n",
        "\n",
        "    # Get the measurements\n",
        "    results[\"cell_id\"].append(cell_id)\n",
        "    results[\"int_mean\"].append(np.mean(img[cell_mask]))\n",
        "    results[\"int_mem_mean\"].append(np.mean(img[edge_mask]))\n",
        "    results[\"cell_area\"].append(np.sum(cell_mask))\n",
        "    results[\"cell_edge\"].append(np.sum(edge_mask))\n",
        "\n",
        "# Print the results\n",
        "for key in results.keys():\n",
        "    print(key + \":\", results[key][:5], '\\n')"
      ]
    },
    {
      "cell_type": "markdown",
      "metadata": {
        "id": "M6QYPAJm4m3j"
      },
      "source": [
        "## Analysis & Visualisation"
      ]
    },
    {
      "cell_type": "code",
      "execution_count": null,
      "metadata": {
        "id": "A2NEvLNV4m3k"
      },
      "outputs": [],
      "source": [
        "# (i) Get summarize the results\n",
        "\n",
        "\n",
        "# Custom function for printing of summary statistics.\n",
        "# Note the use of format strings for nice number padding.\n",
        "def print_summary(data):\n",
        "    print( \"  Mean:    {:7.2f}\".format(np.mean(data))   )\n",
        "    print( \"  Stdev:   {:7.2f}\".format(np.std(data))    )\n",
        "    print( \"  Max:     {:7.2f}\".format(np.max(data))    )\n",
        "    print( \"  Min:     {:7.2f}\".format(np.min(data))    )\n",
        "    print( \"  Median:  {:7.2f}\".format(np.median(data)) )\n",
        "\n",
        "# Calling the custom function for each dataset\n",
        "for key in results.keys():\n",
        "    print( '\\n'+key )\n",
        "    print_summary(results[key])\n",
        ""
      ]
    },
    {
      "cell_type": "code",
      "execution_count": null,
      "metadata": {
        "id": "dP8BurNC4m3k"
      },
      "outputs": [],
      "source": [
        "# Using  pre-made functions to get summary statistics : 'scipy.stats.describe'.\n",
        "from scipy.stats import describe\n",
        "stat_summary = describe(results['int_mean'])\n",
        "\n",
        "print( '\\nscipy.stats.describe of int_mean' )\n",
        "for key in stat_summary._asdict().keys():\n",
        "    print( ' ', key+': ', stat_summary._asdict()[key] )"
      ]
    },
    {
      "cell_type": "code",
      "execution_count": null,
      "metadata": {
        "id": "ykHm6EhW4m3k"
      },
      "outputs": [],
      "source": [
        "# Create a box plot showing the mean cell and mean membrane intensities  using 'plt.boxplot'.\n",
        "\n",
        "plt.figure(figsize=(3,6))\n",
        "plt.boxplot([results['int_mean'], results['int_mem_mean']],\n",
        "            labels=['int_mean', 'int_mem_mean'],\n",
        "            widths=0.6, notch=True)\n",
        "plt.show()"
      ]
    },
    {
      "cell_type": "code",
      "execution_count": null,
      "metadata": {
        "id": "-H4JDsfZ4m3k"
      },
      "outputs": [],
      "source": [
        "# Scatter plot of cell outline length over cell area using 'plt.scatter'\n",
        "\n",
        "plt.figure(figsize=(8,5))\n",
        "plt.scatter(results[\"cell_area\"], results[\"cell_edge\"],\n",
        "            edgecolor='k', s=30, alpha=0.5)\n",
        "plt.xlabel(\"cell area [pxl^2]\")\n",
        "plt.ylabel(\"cell edge length [pxl]\")\n",
        "\n",
        "cell_area_range = np.linspace(min(results[\"cell_area\"]), max(results[\"cell_area\"]), num=100)\n",
        "circle_circumference = 2 * np.pi * np.sqrt( cell_area_range / np.pi )\n",
        "plt.plot(cell_area_range, circle_circumference, color='r', alpha=0.8)\n",
        "plt.legend(['circles', 'data'], loc=2, fontsize=10)\n",
        "plt.show()"
      ]
    },
    {
      "cell_type": "code",
      "execution_count": null,
      "metadata": {
        "id": "pIrm2MJV4m3k"
      },
      "outputs": [],
      "source": [
        "# Map the cell area back onto the image as a 'heatmap'\n",
        "\n",
        "# 'Normalized' area for vizualization\n",
        "areas_8bit = np.array(results[\"cell_area\"]) / max(results[\"cell_area\"]) * 255\n",
        "\n",
        "area_map = np.zeros_like(clean_ws, dtype=np.uint8)\n",
        "\n",
        "# Iterate over the segmented cells.\n",
        "\n",
        "for index, cell_id in enumerate(results[\"cell_id\"]):\n",
        "    # Mask the current cell and assign the cell's (re-scaled) area value to the cell's pixels.\n",
        "    area_map[clean_ws==cell_id] = areas_8bit[index]\n",
        "\n",
        "\n",
        "# Create the plot\n",
        "plt.figure(figsize=(10,10))\n",
        "plt.imshow(img_smooth, interpolation='none', cmap='gray')\n",
        "plt.imshow(area_map,interpolation='none', cmap='jet', alpha=0.6)\n",
        "plt.colorbar(fraction=0.046, pad=0.04)\n",
        "plt.show()"
      ]
    }
  ],
  "metadata": {
    "kernelspec": {
      "display_name": "Python 3 (ipykernel)",
      "language": "python",
      "name": "python3"
    },
    "language_info": {
      "codemirror_mode": {
        "name": "ipython",
        "version": 3
      },
      "file_extension": ".py",
      "mimetype": "text/x-python",
      "name": "python",
      "nbconvert_exporter": "python",
      "pygments_lexer": "ipython3",
      "version": "3.7.11"
    },
    "colab": {
      "provenance": []
    }
  },
  "nbformat": 4,
  "nbformat_minor": 0
}