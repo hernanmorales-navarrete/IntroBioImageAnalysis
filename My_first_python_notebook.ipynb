{
 "cells": [
  {
   "cell_type": "markdown",
   "id": "f9412d48",
   "metadata": {
    "colab_type": "text",
    "id": "view-in-github"
   },
   "source": [
    "<a href=\"https://colab.research.google.com/github/ciencialatitud0/EPIC_2/blob/main/Day0/my_first_python_notebook.ipynb\" target=\"_parent\"><img src=\"https://colab.research.google.com/assets/colab-badge.svg\" alt=\"Open In Colab\"/></a>"
   ]
  },
  {
   "cell_type": "markdown",
   "id": "9979c50e",
   "metadata": {
    "id": "9979c50e"
   },
   "source": [
    "# Preliminary activities for python tutorials \n",
    "\n",
    "The following commands will help you set up your Google Colab working space.\n",
    "\n",
    "**Note: in step 5, please clic on \"Connect to Google Drive\" and then on \"Allow\" when asked about letting Colab access your Google Drive.**\n",
    "\n",
    "### 1. Check where you are, you can use bash commands in a jupyter notebook with ! e.g."
   ]
  },
  {
   "cell_type": "code",
   "execution_count": null,
   "id": "f86b7fa4",
   "metadata": {
    "colab": {
     "base_uri": "https://localhost:8080/"
    },
    "id": "f86b7fa4",
    "outputId": "7629f261-8305-49c1-b2d1-7fd950052c14"
   },
   "outputs": [],
   "source": [
    "!pwd"
   ]
  },
  {
   "cell_type": "markdown",
   "id": "2d96746c",
   "metadata": {
    "id": "2d96746c"
   },
   "source": [
    "### 2. Check python and conda version"
   ]
  },
  {
   "cell_type": "code",
   "execution_count": null,
   "id": "af654a91",
   "metadata": {
    "colab": {
     "base_uri": "https://localhost:8080/"
    },
    "id": "af654a91",
    "outputId": "023772f2-34dd-414d-aafe-7da4705b5439"
   },
   "outputs": [],
   "source": [
    "!python --version"
   ]
  },
  {
   "cell_type": "markdown",
   "id": "7c8a0767",
   "metadata": {
    "id": "7c8a0767"
   },
   "source": [
    "### 3. Now, let's import a few libraries, there should be no errors"
   ]
  },
  {
   "cell_type": "code",
   "execution_count": null,
   "id": "7ecacf07",
   "metadata": {
    "id": "7ecacf07"
   },
   "outputs": [],
   "source": [
    "# Importing libraries, note that '#' can be used to comment your code\n",
    "import numpy as np\n",
    "import matplotlib.pyplot as plt\n",
    "import math"
   ]
  },
  {
   "cell_type": "markdown",
   "id": "fb87d5cc",
   "metadata": {
    "id": "fb87d5cc"
   },
   "source": [
    "### 4. Now, let's make a simple plot"
   ]
  },
  {
   "cell_type": "code",
   "execution_count": null,
   "id": "5b9f01ed",
   "metadata": {
    "colab": {
     "base_uri": "https://localhost:8080/",
     "height": 283
    },
    "id": "5b9f01ed",
    "outputId": "0529f1cb-dc7b-4e23-dd8d-5570c0e6a07e"
   },
   "outputs": [],
   "source": [
    "# The line below forces the notebook to display the plots we are making\n",
    "%matplotlib inline \n",
    "\n",
    "x = np.arange(-2*math.pi,+2*math.pi,0.01)\n",
    "plt.plot(x,np.sin(x))\n",
    "plt.plot(x,np.cos(x))"
   ]
  },
  {
   "cell_type": "markdown",
   "id": "3354c066",
   "metadata": {
    "id": "3354c066"
   },
   "source": [
    "### 5. Now let's try to read an image from Google Drive, but first we need to mount the drive as follows:"
   ]
  },
  {
   "cell_type": "code",
   "execution_count": null,
   "id": "26f5ed02",
   "metadata": {
    "colab": {
     "base_uri": "https://localhost:8080/"
    },
    "id": "26f5ed02",
    "outputId": "5a1595f9-0de9-4b92-947d-378fc43ae536"
   },
   "outputs": [],
   "source": [
    "from google.colab import drive\n",
    "drive.mount('/content/drive')\n",
    "\n",
    "\n",
    "# To display the contents\n",
    "!ls \"/content/drive/My Drive\""
   ]
  },
  {
   "cell_type": "markdown",
   "id": "l6L1SmbwD5kK",
   "metadata": {
    "id": "l6L1SmbwD5kK"
   },
   "source": [
    "### 6. And now we import the jpg image and display it.\n",
    "\n",
    "**Note: Upload any jpg image into your Colab Notebooks folder. \n"
   ]
  },
  {
   "cell_type": "code",
   "execution_count": null,
   "id": "h3UH5BVFCtH-",
   "metadata": {
    "colab": {
     "base_uri": "https://localhost:8080/",
     "height": 224
    },
    "id": "h3UH5BVFCtH-",
    "outputId": "bb8000e9-dd9a-4b0a-94c7-8c69424ade2a"
   },
   "outputs": [],
   "source": [
    "import matplotlib.cbook as cbook\n",
    "\n",
    "\n",
    "image_file = cbook.get_sample_data('/content/drive/My Drive/Colab Notebooks/Cotopaxi_volcano.jpeg')\n",
    "image = plt.imread(image_file)\n",
    "\n",
    "fig, ax = plt.subplots()\n",
    "ax.imshow(image)\n",
    "#ax.axis('off')  # clear x- and y-axes\n",
    "plt.show()"
   ]
  },
  {
   "cell_type": "markdown",
   "id": "b6Lt2alRIKFG",
   "metadata": {
    "id": "b6Lt2alRIKFG"
   },
   "source": [
    "### 7. Let's try now to import it as an array:\n",
    "\n"
   ]
  },
  {
   "cell_type": "code",
   "execution_count": null,
   "id": "YXMjHuw-Drnf",
   "metadata": {
    "colab": {
     "base_uri": "https://localhost:8080/"
    },
    "id": "YXMjHuw-Drnf",
    "outputId": "e5e59289-f94f-4d55-b5e3-ba34d1da49ac"
   },
   "outputs": [],
   "source": [
    "import cv2\n",
    "\n",
    "im = cv2.imread(\"/content/drive/My Drive/Colab Notebooks/Cotopaxi_volcano.jpeg\")\n",
    "print(type(im), np.shape(im))"
   ]
  },
  {
   "cell_type": "markdown",
   "id": "t5TuKETTIIcm",
   "metadata": {
    "id": "t5TuKETTIIcm"
   },
   "source": [
    "### 8. And we can make some plots of the different colour layers:"
   ]
  },
  {
   "cell_type": "code",
   "execution_count": null,
   "id": "LIjnxrfVER6F",
   "metadata": {
    "colab": {
     "base_uri": "https://localhost:8080/",
     "height": 638
    },
    "id": "LIjnxrfVER6F",
    "outputId": "759b9ed0-671e-403b-bb51-ef76266d6191"
   },
   "outputs": [],
   "source": [
    "fig, ax = plt.subplots()\n",
    "ax.imshow(im[:,:,0], cmap=\"Blues\")\n",
    "#ax.axis('off')  # clear x- and y-axes\n",
    "plt.show()\n",
    "\n",
    "fig, ax = plt.subplots()\n",
    "ax.imshow(im[:,:,1], cmap=\"Greens\")\n",
    "#ax.axis('off')  # clear x- and y-axes\n",
    "plt.show()\n",
    "\n",
    "fig, ax = plt.subplots()\n",
    "ax.imshow(im[:,:,2], cmap=\"Reds\")\n",
    "#ax.axis('off')  # clear x- and y-axes\n",
    "plt.show()"
   ]
  },
  {
   "cell_type": "markdown",
   "id": "ThkO6Iq7IZWH",
   "metadata": {
    "id": "ThkO6Iq7IZWH"
   },
   "source": [
    "### 9. We will use several libraries for the tutorial, some of them are installed by default:"
   ]
  },
  {
   "cell_type": "code",
   "execution_count": null,
   "id": "wVSZLzJ0FBa7",
   "metadata": {
    "id": "wVSZLzJ0FBa7"
   },
   "outputs": [],
   "source": [
    "import numpy\n",
    "import scipy\n",
    "import matplotlib\n",
    "import h5py\n",
    "import imageio\n",
    "import pandas"
   ]
  },
  {
   "cell_type": "markdown",
   "id": "YUU-k-o-Ilw3",
   "metadata": {
    "id": "YUU-k-o-Ilw3"
   },
   "source": [
    "### 10. As we can see, there are no errors. Now, the following does not work:"
   ]
  },
  {
   "cell_type": "code",
   "execution_count": null,
   "id": "M_BP6LZ9F628",
   "metadata": {
    "colab": {
     "base_uri": "https://localhost:8080/",
     "height": 312
    },
    "id": "M_BP6LZ9F628",
    "outputId": "c366b2f8-0a2d-4bd6-bf1d-f3d72252ae57"
   },
   "outputs": [],
   "source": [
    "import yt"
   ]
  },
  {
   "cell_type": "markdown",
   "id": "oB8yNh8BIslG",
   "metadata": {
    "id": "oB8yNh8BIslG"
   },
   "source": [
    "### 11. But, it tells us what to do:"
   ]
  },
  {
   "cell_type": "code",
   "execution_count": null,
   "id": "sIA8HdebI_j5",
   "metadata": {
    "colab": {
     "base_uri": "https://localhost:8080/"
    },
    "id": "sIA8HdebI_j5",
    "outputId": "de72cf27-7f58-4420-aee7-4a96af6e880e"
   },
   "outputs": [],
   "source": [
    "!pip install yt"
   ]
  },
  {
   "cell_type": "code",
   "execution_count": null,
   "id": "HJMHznmpJHyF",
   "metadata": {
    "id": "HJMHznmpJHyF"
   },
   "outputs": [],
   "source": [
    "import yt"
   ]
  }
 ],
 "metadata": {
  "colab": {
   "collapsed_sections": [],
   "include_colab_link": true,
   "provenance": []
  },
  "kernelspec": {
   "display_name": "Python 3 (ipykernel)",
   "language": "python",
   "name": "python3"
  },
  "language_info": {
   "codemirror_mode": {
    "name": "ipython",
    "version": 3
   },
   "file_extension": ".py",
   "mimetype": "text/x-python",
   "name": "python",
   "nbconvert_exporter": "python",
   "pygments_lexer": "ipython3",
   "version": "3.10.9"
  }
 },
 "nbformat": 4,
 "nbformat_minor": 5
}
