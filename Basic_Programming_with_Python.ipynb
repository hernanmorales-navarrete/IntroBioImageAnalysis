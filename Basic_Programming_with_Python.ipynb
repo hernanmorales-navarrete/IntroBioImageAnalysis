{
  "cells": [
    {
      "cell_type": "markdown",
      "metadata": {
        "id": "UyIAUdeYpayy"
      },
      "source": [
        "Basic programming with Python \n",
        "---\n",
        "---\n",
        "**Outline**\n",
        "\n",
        "1. Introduction\n",
        "2. Creating functions \n",
        "3. Reading and writing text/binary files\n",
        "4. Working with data tables\n",
        "  *   Basic statistics  \n",
        "  *   Plots with matplotlib \n",
        "\n",
        "\n",
        "---\n",
        "\n",
        "Dataset: https://archive.ics.uci.edu/ml/datasets/wine "
      ]
    },
    {
      "cell_type": "markdown",
      "metadata": {
        "id": "RaFWaoR14unN"
      },
      "source": [
        "\n",
        "**1. Introduction** \n",
        "---\n",
        "Check which packages you have already installed\n",
        "---\n",
        "1.1. Display a list of installed package names and version numbers"
      ]
    },
    {
      "cell_type": "code",
      "execution_count": null,
      "metadata": {
        "id": "V2u4FZEY4sHX"
      },
      "outputs": [],
      "source": [
        "pip list"
      ]
    },
    {
      "cell_type": "markdown",
      "metadata": {
        "id": "B9P5HDDlEUQq"
      },
      "source": [
        "1.2. Check specific installed packages\n",
        "\n",
        "a. numpy (Numerical python) https://numpy.org/doc/stable/user/absolute_beginners.html\n",
        "\n",
        "b. pandas https://pandas.pydata.org/docs/user_guide/index.html#user-guide\n",
        "\n",
        "c. matplotlib  https://matplotlib.org/stable/index.html"
      ]
    },
    {
      "cell_type": "code",
      "execution_count": null,
      "metadata": {
        "id": "XPjlWVgHHl4X"
      },
      "outputs": [],
      "source": [
        "pip show numpy"
      ]
    },
    {
      "cell_type": "code",
      "execution_count": null,
      "metadata": {
        "id": "_ZnrmqKhEi8C"
      },
      "outputs": [],
      "source": [
        "pip show pandas"
      ]
    },
    {
      "cell_type": "code",
      "execution_count": null,
      "metadata": {
        "id": "PqYhShSB1dSw"
      },
      "outputs": [],
      "source": [
        "### Let's mount Google Drive"
      ]
    },
    {
      "cell_type": "code",
      "execution_count": 8,
      "metadata": {
        "id": "jNGy1zcGHxAo",
        "outputId": "1668f7de-1006-44e9-e587-4f5ab80be406",
        "colab": {
          "base_uri": "https://localhost:8080/"
        }
      },
      "outputs": [
        {
          "output_type": "stream",
          "name": "stdout",
          "text": [
            "Mounted at /content/drive\n",
            " 10.1.1.499.3249.pdf\n",
            " 14564.pdf\n",
            " 1-s2.0-S1877050918313292-main.pdf\n",
            " 20200907-IMG_20200907_163330.jpg\n",
            " 20200907-IMG_20200907_180757.jpg\n",
            " 20200908-IMG_20200908_063230.jpg\n",
            " 20200908-IMG_20200908_064155.jpg\n",
            " 20200909-IMG_20200909_062321.jpg\n",
            " 20200909-IMG_20200909_103839.jpg\n",
            " 20200910-IMG_20200910_185930.jpg\n",
            " 20220103-P1057309.jpg\n",
            " 20220103-P1057313.jpg\n",
            " 20220103-P1057393.jpg\n",
            " 20220103-P1057481.jpg\n",
            " 20220103-P1057587.jpg\n",
            " 20220103-P1057596.jpg\n",
            " 20220103-P1057657.jpg\n",
            " 20220103-P1057694.jpg\n",
            " 3dNuclei\n",
            " 92_.pth\n",
            " Abstract_AASLD.docx\n",
            " Actividad_Anual_de_seguimiento_AMN.pdf\n",
            " Actividad_Anual_de_seguimiento.pdf\n",
            "'AndréScholich2018 (1).pdf'\n",
            " Anica-Kurzbach_07022022.odp\n",
            " Anica-Kurzbach_13062022.odp\n",
            " Autumn-Pomreinke_01042019.pptx\n",
            " Autumn-Pomreinke_09122019.pptx\n",
            " Autumn-Pomreinke_13072020.pptx\n",
            " Autumn-Pomreinke_14122020.pptx\n",
            " Autumn-Pomreinke_22072019.pptx\n",
            " Autumn-Pomreinke_23032021.pptx\n",
            " BackUpLaptop2023\n",
            " BC_img3.tif\n",
            "'Bella Ciao en persa, les veus de Behin i Samin Bolouri - IranProtests.mp4'\n",
            " BiaxialNematic.pdf\n",
            " BiaxialNematic_v2.pdf\n",
            " bioLympics.gsheet\n",
            " Caimans-4.jpg\n",
            " card.pdf\n",
            " cells.tif\n",
            "'CIM_Información_y_registro_de_participantes_LATAM_2019_Final 23.09.19.gdoc'\n",
            " Classroom\n",
            "'Colab Notebooks'\n",
            " ColabNotebooks\n",
            " Collective_cell_migration_ZF.pptx\n",
            " comments\n",
            "'conf1 - Andrés Morales.png'\n",
            " conf1.png\n",
            "'CONSTANCIA asignaturas H Morales-signed.pdf'\n",
            "'COPIA DE LA CEDULA DEL PARTICIPANTE.gdoc'\n",
            "'Copy of Cover_E.jpg'\n",
            " Cover_A_v1.jpg\n",
            " Cover_A_v2.jpg\n",
            " Cover_A_v3.jpg\n",
            " Cover_B_v1.jpg\n",
            " Cover_E.jpg\n",
            " Cover_E_v1.jpg\n",
            " CUESTIONARIOTEMA1.gdoc\n",
            "'CUESTIONARIO TEMA3.gdoc'\n",
            "'CUESTIONARIO TEMA4.gdoc'\n",
            "'CUESTIONARIO TEMA5.gdoc'\n",
            " CV_eng.pdf\n",
            " datafish.txt\n",
            "'DataSet1RegressionNet_Membranes2Apical_UNet3D_64pix (1).mat'\n",
            " DataSet1RegressionNet_Membranes2Apical_UNet3D_64pix.mat\n",
            " DataSet1RegressionNet_Membranes2Basal_UNet3D_64pix.mat\n",
            " data_zebrafish.txt\n",
            "'DefaultConfig (1).json'\n",
            "'DefaultConfig (2).json'\n",
            "'DefaultConfig (3).json'\n",
            "'DefaultConfig (4).json'\n",
            "'DefaultConfig (5).json'\n",
            "'DefaultConfigGPU (1).json'\n",
            "'DefaultConfigGPU (2).json'\n",
            "'DefaultConfigGPU (3).json'\n",
            " DefaultConfigGPU.json\n",
            " DefaultConfig.json\n",
            " dev199664.pdf\n",
            " Developmental_Physiology.pptx\n",
            "'Documents du dossier 7818973-2112-APO-V(02.02) 20220315101816.pdf'\n",
            " eLife_Travel_Grant_claim_form_2020.gdoc\n",
            " EmbryoClassifier_CPU_1_11.zip\n",
            " ERK_reconstr_2D.avi\n",
            " Espumilla_Lenka.gdoc\n",
            " Espumilla_Lenka.pdf\n",
            " etZ-V3C4rTzg-AKz.mp4\n",
            " Eurowings_boardingpass_GKVS9B_mobile.pdf\n",
            " export_tringle_meshes.plk\n",
            " Figure_01_20191205.tiff\n",
            " flower_vase_v1.mp4\n",
            " flower_vase_v3.mp4\n",
            "'FoodDatabase (1).zip'\n",
            " FoodDatabase.zip\n",
            "'Formulario Avance de Tesis 2021.pdf'\n",
            "'FORMULARIO DE REGISTRO TURISTA.docx'\n",
            "'FZ_12-5-2021_OLAF-0000383127_ (1).pdf'\n",
            " haesemeyer2018.pdf\n",
            " Hampe_support_Segovia2.docx\n",
            "'Hepatocyte ATF3 protects against atherosclerosis.pdf'\n",
            "'Hernán - eLife Travel Grant claim form 2020.docx'\n",
            "'HERNAN MORALES NAVARRETE, 03JAN 0310 QUITO.pdf'\n",
            " HernanMorales-Navarrete_04072022.pptx\n",
            "'HernanMorales-Navarrete_051220222 (1).pptx'\n",
            "'HernanMorales-Navarrete_051220222 (2).pptx'\n",
            "'HernanMorales-Navarrete_051220222 (3).pptx'\n",
            " HernanMorales-Navarrete_051220222.pptx\n",
            "'HernanMorales-Navarrete_07032022 (1).pptx'\n",
            "'HernanMorales-Navarrete_07032022 (2).pptx'\n",
            "'HernanMorales-Navarrete_07032022 (3).pptx'\n",
            "'HernanMorales-Navarrete_07032022 (4).pptx'\n",
            "'HernanMorales-Navarrete_07032022 (5).pptx'\n",
            " HernanMorales-Navarrete_07032022.pptx\n",
            "'Hernan-Morales-Navarrete_12052021 (1).pptx'\n",
            "'HernanMorales-Navarrete_12052021 (1).pptx'\n",
            " Hernan-Morales-Navarrete_12052021.pptx\n",
            " HernanMorales-Navarrete_12052021.pptx\n",
            " HernanMorales-Navarrete_14062021.pptx\n",
            "'HernanMorales-Navarrete_29112021 (1).pptx'\n",
            " HernanMorales-Navarrete_29112021.pptx\n",
            "'How to Journal Club_V1.odp'\n",
            "'Hypothalamic perineuronal net assembly is.pdf'\n",
            "\"I am sharing 'CIM_Información_y_registro_de_participantes_LATAM_2019_Final 23.09.19' with you.pdf\"\n",
            " image001.jpg\n",
            "'Image 79.czi'\n",
            "'Image 83.czi'\n",
            "'Image 94.czi'\n",
            " img0.tif\n",
            " img1_predicted.tif\n",
            " img1.tif\n",
            " img3_predicted_basal.tif\n",
            " img3_predicted_kuffer.tif\n",
            " img3_predicted_sinu.tif\n",
            "'Importado desde Google Bloc de notas - My first notebook.gdoc'\n",
            "'instrucciones abstract.pdf'\n",
            " IntroBioImageAnalysis-main\n",
            " INTRO_BioImageAnalysis.pptx\n",
            " IntroSoftMatter2022\n",
            " JobTalk_2020.pptx\n",
            " Job_Talk_Muller_Gorup_27_10_2020.pdf\n",
            " JournalClub_03062022.pptx\n",
            " JournalClub_03122021.pptx\n",
            " JournalClub_14042023.pptx\n",
            " JournalClub_18112022.pptx\n",
            " Kim_et_al-2017-Nature_Methods.pdf\n",
            " KMSpico-setup.exe\n",
            "'Konstanz_Contract_documents_Hernan_Morales_Navarrete_compressed (1).pdf'\n",
            " Konstanz_Contract_documents_Hernan_Morales_Navarrete_compressed.pdf\n",
            " mail.gdoc\n",
            "'Master degree.pdf'\n",
            " meetings\n",
            " memb_img1.tif\n",
            " memb_img3.tif\n",
            " Membranes_FGF.tif\n",
            " Membranes_WT.tif\n",
            "'Mitochondrial pyruvate carriers are required for.pdf'\n",
            " ML-Library-Converted.Data.zip\n",
            " Model\n",
            " Models.zip\n",
            " MorphogenesisForcesSignaling_HMN_09052022.pptx\n",
            " Movie1.avi\n",
            " Movie2.avi\n",
            " Movie3.avi\n",
            " Mueller_line_edits_1680272693_1-1_PM.docx\n",
            " Nodal_FGF\n",
            " Noise2Void_3D\n",
            " Nuclei_FGF.tif\n",
            " P1148091.MOV\n",
            " P1148091_v1.mp4\n",
            " P1148091_v2.mp4\n",
            " P1148091_v3.mp4\n",
            " P1148093.MOV\n",
            " P1148093_v1.mp4\n",
            "'paseo paris.gsheet'\n",
            " Personenbogen_Hernan_Morales-Navarrete.docx\n",
            " Personenbogen_Hernan_Morales-Navarrete.pdf\n",
            " PhD_degree_Morales-Navarrete.pdf\n",
            "'Physics Without Frontiers (PWF) 2023.gdoc'\n",
            "'PI - Störungen der Embryonalentwicklung_EN.docx'\n",
            "'PKC downregulation upon rapamycin treatment.pdf'\n",
            "'Plantilla presentaciones - Casa Abierta ECMC (1).pdf'\n",
            "'Plantilla presentaciones - Casa Abierta ECMC (1).pptx'\n",
            "'Plantilla presentaciones - Casa Abierta ECMC.pdf'\n",
            "'Plantilla presentaciones - Casa Abierta ECMC.pptx'\n",
            " plusTipTracker-1.1.4.zip\n",
            " Presentations\n",
            " PRINCIPAL7_8.java\n",
            " Pronuclear_migration.mp4\n",
            " Proposal_draft2.0.gdoc\n",
            " psf_Desmin.tif\n",
            " RegressionNet_MemNuclei2Membranes_UNet3D_64pix.mat\n",
            " RegressionNet_MemNuclei2Nuclei_UNet3D_64pix.mat\n",
            " Responses.docx\n",
            " Revista_IsaSubia.gdoc\n",
            " Revista_IsaSubia.odt\n",
            " s41378-020-0132-8.pdf\n",
            " s41746-019-0096-y.pdf\n",
            " sample-1-cell-tracks.csv\n",
            "'Shape coarse-grained.tif'\n",
            " speech_AM.docx\n",
            " speech_V3_AM.docx\n",
            " speech_V3_AM.gdoc\n",
            " ssstwitter.com_1664312240761.mp4\n",
            "'Statement(paracorregir).gdoc'\n",
            "'TAREA COMPLEMENTARIA TEMA1.gdoc'\n",
            "'TAREA COMPLEMENTARIA TEMA3.gdoc'\n",
            "'TAREA COMPLEMENTARIA TEMA4.gdoc'\n",
            "'Team for BiOlympics.gform'\n",
            " test_stainings.xlsx\n",
            " thesisFV.pdf\n",
            " TiMiP\n",
            " TIMIP\n",
            " TiMIP2023\n",
            " To-do.docx\n",
            "'T-shirt BiOlympics (Respuestas).gsheet'\n",
            " Tweets.docx\n",
            "'untitled 2.gsheet'\n",
            "'Untitled Jam.gjam'\n",
            " UsingDeepLearningAndSoftMatterPhysics.pptx\n",
            "'UsingDeepLearningAndSoftMatterPhysics _Short.pptx'\n",
            "'video con brillo y contraste.avi'\n",
            " videosDrone\n",
            " VTK_HMN_10052022.pptx\n",
            " weekly_meetings_02_03_2022.pptx\n",
            " weekly_meetings_17_11_2021.pptx\n",
            "'weekly_meetings_27_10_2021 (1).pptx'\n",
            " weekly_meetings_27_10_2021.pptx\n",
            " Worms\n",
            "'zfish_101__batch_8_000back (1).onnx'\n",
            "'zfish_101__batch_8_000back (2).onnx'\n",
            " zfish_101__batch_8_000back.onnx\n",
            " zfish_118__batch_8_000back.onnx\n",
            " zfish_121__batch_8_120back.onnx\n",
            "'zfish_129__batch_8_000back (1).onnx'\n",
            "'zfish_129__batch_8_000back (2).onnx'\n",
            " zfish_129__batch_8_000back.onnx\n",
            "'zfish_152__batch_8_120back (1).onnx'\n",
            "'zfish_152__batch_8_120back (2).onnx'\n",
            " zfish_152__batch_8_120back.onnx\n",
            "'zfish_7__batch_8_120back (1).onnx'\n",
            " zfish_7__batch_8_120back.onnx\n",
            " zfish_94__batch_8_000back.onnx\n"
          ]
        }
      ],
      "source": [
        "from google.colab import drive\n",
        "drive.mount('/content/drive')\n",
        "\n",
        "\n",
        "# To display the contents\n",
        "!ls \"/content/drive/My Drive\""
      ]
    },
    {
      "cell_type": "markdown",
      "metadata": {
        "id": "QlaxiZRhIBEn"
      },
      "source": [
        "\n",
        "\n",
        "---\n",
        "Use packages\n",
        "---\n",
        "\n",
        "Access to a package or to the code in another module by importing it. \n",
        "\n",
        "1.3. Import and use packages"
      ]
    },
    {
      "cell_type": "code",
      "execution_count": null,
      "metadata": {
        "id": "FPTGmrb5NKU0"
      },
      "outputs": [],
      "source": [
        "import numpy as np\n",
        "a = np.arange(6)\n",
        "print(a)"
      ]
    },
    {
      "cell_type": "code",
      "execution_count": null,
      "metadata": {
        "id": "C8ewbr1AgG9F"
      },
      "outputs": [],
      "source": [
        "a1D = np.array([0, 1, 2, 3, 4])\n",
        "a2D = np.array([[1, 2], [3, 4]])\n",
        "a3D = np.array([[[1, 2], [3, 4]],\n",
        "                [[5, 6], [7, 8]]])\n",
        "print(a1D) \n",
        "print(a2D[0])\n",
        "print(a3D)"
      ]
    },
    {
      "cell_type": "code",
      "execution_count": null,
      "metadata": {
        "id": "-uWaiBDvgIwk"
      },
      "outputs": [],
      "source": [
        "import pandas as pd\n",
        "import matplotlib.pyplot as plt"
      ]
    },
    {
      "cell_type": "markdown",
      "metadata": {
        "id": "sfTNpq3igPkM"
      },
      "source": [
        "\n",
        "**2. Variable types** \n",
        "---\n",
        "---\n"
      ]
    },
    {
      "cell_type": "code",
      "execution_count": null,
      "metadata": {
        "id": "XeQ3M5RakaPx"
      },
      "outputs": [],
      "source": [
        "# numeric (int, float, complex, boolean), \n",
        "b1 = 5.1 # float\n",
        "b2 = 5 # int\n",
        "b3 = 1<2 # boolean\n",
        "print(b1, ' is',type(b1), '\\n')\n",
        "print(b2, ' is',type(b2), '\\n')\n",
        "print(b3, ' is',type(b3), '\\n')"
      ]
    },
    {
      "cell_type": "code",
      "execution_count": null,
      "metadata": {
        "id": "dlRD4VB-1dSy"
      },
      "outputs": [],
      "source": [
        "# lists \n",
        "c = ['karin', 'sasaki', 345.453]\n",
        "print(c, ' is', type(c), '\\n')"
      ]
    },
    {
      "cell_type": "code",
      "execution_count": null,
      "metadata": {
        "id": "XQ6SPlxR1dSy"
      },
      "outputs": [],
      "source": [
        "# strings \n",
        "print(c[0], ' is',type(c[0]), '\\n')"
      ]
    },
    {
      "cell_type": "code",
      "execution_count": null,
      "metadata": {
        "id": "Y2a7N20K1dSy"
      },
      "outputs": [],
      "source": [
        "# tuples\n",
        "d = (123, 'john')\n",
        "print(d, ' is', type(d), '\\n')"
      ]
    },
    {
      "cell_type": "code",
      "execution_count": null,
      "metadata": {
        "id": "a8t9cb7x1dSz"
      },
      "outputs": [],
      "source": [
        "# dictionaries\n",
        "e = {'name': 'marcie','code':63214, 'dept': 'mathematics'}\n",
        "print(e, ' is', type(e), '\\n')"
      ]
    },
    {
      "cell_type": "code",
      "execution_count": null,
      "metadata": {
        "id": "A6rsT5Tg1dSz"
      },
      "outputs": [],
      "source": [
        "# Numpy array\n",
        "f = np.array([1,2,3,4,5])\n",
        "print(f, ' is', type(f), '\\n')"
      ]
    },
    {
      "cell_type": "code",
      "execution_count": null,
      "metadata": {
        "id": "zc134iqD1dSz"
      },
      "outputs": [],
      "source": [
        "# note this is different form the list\n",
        "h = [1,2,3,4,5]\n",
        "print(h, ' is', type(h), '\\n')"
      ]
    },
    {
      "cell_type": "markdown",
      "metadata": {
        "id": "SPgkDPj6i3Ey"
      },
      "source": [
        "\n",
        "***3. Reading and writing text and binary files***\n",
        "---\n",
        "Write in text files\n",
        "---\n",
        "*open()* : Function. No module is required to be imported for this function.\n",
        "1. File in the same directory as the python program file or full address of the file (r\"file_name\")\n",
        "2. Acess mode: **r**,  **r+**, **w**, **w+**, **a**, **x**\n",
        "\n",
        "Example: object = open(\"file.txt\", \"r\")\n",
        "\n",
        "Note: The r is placed before filename to prevent the characters in filename string to be treated as special character. \n",
        "\n",
        "\n",
        "Two ways to write in a file:\n",
        "\n",
        "*write()* : Inserts a single string.\n",
        "\n",
        "*writelines()* : Insert a list of string elements.\n",
        "\n",
        "How to specify number of decimals and string format -->\n",
        "https://docs.python.org/3/library/string.html#format-specification-mini-language\n",
        "\n",
        "\n",
        "\n",
        "---\n",
        "\n",
        "3.1. Write a message in a txt file."
      ]
    },
    {
      "cell_type": "code",
      "execution_count": null,
      "metadata": {
        "id": "qcA-Is-hwEUR"
      },
      "outputs": [],
      "source": [
        "file1 = open(\"helloWorld.txt\",\"a\")\n",
        "file1.write(\"Hello World \\n I am Hernan\")\n",
        "file1.close()"
      ]
    },
    {
      "cell_type": "markdown",
      "metadata": {
        "id": "k9StevRpkwjO"
      },
      "source": [
        "Read text files\n",
        "---\n",
        "\n",
        "There are three ways to read data from a text file.\n",
        "\n",
        "***read()*** \n",
        "\n",
        "object.*read()*: reads the entire file\n",
        "\n",
        "object.*read(n)*: reads *n* bytes\n",
        "\n",
        "***readline()*** : reads a line of the file and returns in form of a string.\n",
        "\n",
        "***readlines()***: reads all the lines and return them as each line a string element in a list.\n",
        "\n",
        "\n",
        "---\n",
        "3.4. Read a text file\n",
        "\n"
      ]
    },
    {
      "cell_type": "code",
      "execution_count": null,
      "metadata": {
        "id": "LChWO7HY2gy-"
      },
      "outputs": [],
      "source": [
        "file4 = open(\"helloWorld.txt\", \"r\")\n",
        "print (file4.read())\n",
        "file4.close()"
      ]
    },
    {
      "cell_type": "code",
      "execution_count": null,
      "metadata": {
        "id": "9_QwlyjFC9nI"
      },
      "outputs": [],
      "source": [
        "file4 = open(\"helloWorld.txt\", \"r\")\n",
        "print (file4.readline())\n",
        "file4.close()"
      ]
    },
    {
      "cell_type": "markdown",
      "metadata": {
        "id": "oGANy93uy5QD"
      },
      "source": [
        "Write and Read csv files\n",
        "---\n",
        "\n",
        "\n",
        "\n",
        "---\n",
        "3.9. Use *pandas* to read/write an array to a file \n",
        "\n",
        "https://pandas.pydata.org/pandas-docs/stable/user_guide/io.html#csv-text-files"
      ]
    },
    {
      "cell_type": "code",
      "execution_count": 9,
      "metadata": {
        "id": "dx8xRM5jnIQq",
        "outputId": "8b283658-d044-49b9-da95-98ce42066f90",
        "colab": {
          "base_uri": "https://localhost:8080/",
          "height": 345
        }
      },
      "outputs": [
        {
          "output_type": "error",
          "ename": "FileNotFoundError",
          "evalue": "ignored",
          "traceback": [
            "\u001b[0;31m---------------------------------------------------------------------------\u001b[0m",
            "\u001b[0;31mFileNotFoundError\u001b[0m                         Traceback (most recent call last)",
            "\u001b[0;32m<ipython-input-9-e7402b96e5f6>\u001b[0m in \u001b[0;36m<cell line: 2>\u001b[0;34m()\u001b[0m\n\u001b[1;32m      1\u001b[0m \u001b[0;31m#read a data frame from csv file\u001b[0m\u001b[0;34m\u001b[0m\u001b[0;34m\u001b[0m\u001b[0m\n\u001b[0;32m----> 2\u001b[0;31m \u001b[0mdf_data\u001b[0m \u001b[0;34m=\u001b[0m \u001b[0mpd\u001b[0m\u001b[0;34m.\u001b[0m\u001b[0mread_csv\u001b[0m\u001b[0;34m(\u001b[0m\u001b[0;34m'SortedNuclei.csv'\u001b[0m\u001b[0;34m)\u001b[0m\u001b[0;34m\u001b[0m\u001b[0;34m\u001b[0m\u001b[0m\n\u001b[0m\u001b[1;32m      3\u001b[0m \u001b[0mdf_data\u001b[0m\u001b[0;34m\u001b[0m\u001b[0;34m\u001b[0m\u001b[0m\n",
            "\u001b[0;32m/usr/local/lib/python3.10/dist-packages/pandas/util/_decorators.py\u001b[0m in \u001b[0;36mwrapper\u001b[0;34m(*args, **kwargs)\u001b[0m\n\u001b[1;32m    209\u001b[0m                 \u001b[0;32melse\u001b[0m\u001b[0;34m:\u001b[0m\u001b[0;34m\u001b[0m\u001b[0;34m\u001b[0m\u001b[0m\n\u001b[1;32m    210\u001b[0m                     \u001b[0mkwargs\u001b[0m\u001b[0;34m[\u001b[0m\u001b[0mnew_arg_name\u001b[0m\u001b[0;34m]\u001b[0m \u001b[0;34m=\u001b[0m \u001b[0mnew_arg_value\u001b[0m\u001b[0;34m\u001b[0m\u001b[0;34m\u001b[0m\u001b[0m\n\u001b[0;32m--> 211\u001b[0;31m             \u001b[0;32mreturn\u001b[0m \u001b[0mfunc\u001b[0m\u001b[0;34m(\u001b[0m\u001b[0;34m*\u001b[0m\u001b[0margs\u001b[0m\u001b[0;34m,\u001b[0m \u001b[0;34m**\u001b[0m\u001b[0mkwargs\u001b[0m\u001b[0;34m)\u001b[0m\u001b[0;34m\u001b[0m\u001b[0;34m\u001b[0m\u001b[0m\n\u001b[0m\u001b[1;32m    212\u001b[0m \u001b[0;34m\u001b[0m\u001b[0m\n\u001b[1;32m    213\u001b[0m         \u001b[0;32mreturn\u001b[0m \u001b[0mcast\u001b[0m\u001b[0;34m(\u001b[0m\u001b[0mF\u001b[0m\u001b[0;34m,\u001b[0m \u001b[0mwrapper\u001b[0m\u001b[0;34m)\u001b[0m\u001b[0;34m\u001b[0m\u001b[0;34m\u001b[0m\u001b[0m\n",
            "\u001b[0;32m/usr/local/lib/python3.10/dist-packages/pandas/util/_decorators.py\u001b[0m in \u001b[0;36mwrapper\u001b[0;34m(*args, **kwargs)\u001b[0m\n\u001b[1;32m    329\u001b[0m                     \u001b[0mstacklevel\u001b[0m\u001b[0;34m=\u001b[0m\u001b[0mfind_stack_level\u001b[0m\u001b[0;34m(\u001b[0m\u001b[0;34m)\u001b[0m\u001b[0;34m,\u001b[0m\u001b[0;34m\u001b[0m\u001b[0;34m\u001b[0m\u001b[0m\n\u001b[1;32m    330\u001b[0m                 )\n\u001b[0;32m--> 331\u001b[0;31m             \u001b[0;32mreturn\u001b[0m \u001b[0mfunc\u001b[0m\u001b[0;34m(\u001b[0m\u001b[0;34m*\u001b[0m\u001b[0margs\u001b[0m\u001b[0;34m,\u001b[0m \u001b[0;34m**\u001b[0m\u001b[0mkwargs\u001b[0m\u001b[0;34m)\u001b[0m\u001b[0;34m\u001b[0m\u001b[0;34m\u001b[0m\u001b[0m\n\u001b[0m\u001b[1;32m    332\u001b[0m \u001b[0;34m\u001b[0m\u001b[0m\n\u001b[1;32m    333\u001b[0m         \u001b[0;31m# error: \"Callable[[VarArg(Any), KwArg(Any)], Any]\" has no\u001b[0m\u001b[0;34m\u001b[0m\u001b[0;34m\u001b[0m\u001b[0m\n",
            "\u001b[0;32m/usr/local/lib/python3.10/dist-packages/pandas/io/parsers/readers.py\u001b[0m in \u001b[0;36mread_csv\u001b[0;34m(filepath_or_buffer, sep, delimiter, header, names, index_col, usecols, squeeze, prefix, mangle_dupe_cols, dtype, engine, converters, true_values, false_values, skipinitialspace, skiprows, skipfooter, nrows, na_values, keep_default_na, na_filter, verbose, skip_blank_lines, parse_dates, infer_datetime_format, keep_date_col, date_parser, dayfirst, cache_dates, iterator, chunksize, compression, thousands, decimal, lineterminator, quotechar, quoting, doublequote, escapechar, comment, encoding, encoding_errors, dialect, error_bad_lines, warn_bad_lines, on_bad_lines, delim_whitespace, low_memory, memory_map, float_precision, storage_options)\u001b[0m\n\u001b[1;32m    948\u001b[0m     \u001b[0mkwds\u001b[0m\u001b[0;34m.\u001b[0m\u001b[0mupdate\u001b[0m\u001b[0;34m(\u001b[0m\u001b[0mkwds_defaults\u001b[0m\u001b[0;34m)\u001b[0m\u001b[0;34m\u001b[0m\u001b[0;34m\u001b[0m\u001b[0m\n\u001b[1;32m    949\u001b[0m \u001b[0;34m\u001b[0m\u001b[0m\n\u001b[0;32m--> 950\u001b[0;31m     \u001b[0;32mreturn\u001b[0m \u001b[0m_read\u001b[0m\u001b[0;34m(\u001b[0m\u001b[0mfilepath_or_buffer\u001b[0m\u001b[0;34m,\u001b[0m \u001b[0mkwds\u001b[0m\u001b[0;34m)\u001b[0m\u001b[0;34m\u001b[0m\u001b[0;34m\u001b[0m\u001b[0m\n\u001b[0m\u001b[1;32m    951\u001b[0m \u001b[0;34m\u001b[0m\u001b[0m\n\u001b[1;32m    952\u001b[0m \u001b[0;34m\u001b[0m\u001b[0m\n",
            "\u001b[0;32m/usr/local/lib/python3.10/dist-packages/pandas/io/parsers/readers.py\u001b[0m in \u001b[0;36m_read\u001b[0;34m(filepath_or_buffer, kwds)\u001b[0m\n\u001b[1;32m    603\u001b[0m \u001b[0;34m\u001b[0m\u001b[0m\n\u001b[1;32m    604\u001b[0m     \u001b[0;31m# Create the parser.\u001b[0m\u001b[0;34m\u001b[0m\u001b[0;34m\u001b[0m\u001b[0m\n\u001b[0;32m--> 605\u001b[0;31m     \u001b[0mparser\u001b[0m \u001b[0;34m=\u001b[0m \u001b[0mTextFileReader\u001b[0m\u001b[0;34m(\u001b[0m\u001b[0mfilepath_or_buffer\u001b[0m\u001b[0;34m,\u001b[0m \u001b[0;34m**\u001b[0m\u001b[0mkwds\u001b[0m\u001b[0;34m)\u001b[0m\u001b[0;34m\u001b[0m\u001b[0;34m\u001b[0m\u001b[0m\n\u001b[0m\u001b[1;32m    606\u001b[0m \u001b[0;34m\u001b[0m\u001b[0m\n\u001b[1;32m    607\u001b[0m     \u001b[0;32mif\u001b[0m \u001b[0mchunksize\u001b[0m \u001b[0;32mor\u001b[0m \u001b[0miterator\u001b[0m\u001b[0;34m:\u001b[0m\u001b[0;34m\u001b[0m\u001b[0;34m\u001b[0m\u001b[0m\n",
            "\u001b[0;32m/usr/local/lib/python3.10/dist-packages/pandas/io/parsers/readers.py\u001b[0m in \u001b[0;36m__init__\u001b[0;34m(self, f, engine, **kwds)\u001b[0m\n\u001b[1;32m   1440\u001b[0m \u001b[0;34m\u001b[0m\u001b[0m\n\u001b[1;32m   1441\u001b[0m         \u001b[0mself\u001b[0m\u001b[0;34m.\u001b[0m\u001b[0mhandles\u001b[0m\u001b[0;34m:\u001b[0m \u001b[0mIOHandles\u001b[0m \u001b[0;34m|\u001b[0m \u001b[0;32mNone\u001b[0m \u001b[0;34m=\u001b[0m \u001b[0;32mNone\u001b[0m\u001b[0;34m\u001b[0m\u001b[0;34m\u001b[0m\u001b[0m\n\u001b[0;32m-> 1442\u001b[0;31m         \u001b[0mself\u001b[0m\u001b[0;34m.\u001b[0m\u001b[0m_engine\u001b[0m \u001b[0;34m=\u001b[0m \u001b[0mself\u001b[0m\u001b[0;34m.\u001b[0m\u001b[0m_make_engine\u001b[0m\u001b[0;34m(\u001b[0m\u001b[0mf\u001b[0m\u001b[0;34m,\u001b[0m \u001b[0mself\u001b[0m\u001b[0;34m.\u001b[0m\u001b[0mengine\u001b[0m\u001b[0;34m)\u001b[0m\u001b[0;34m\u001b[0m\u001b[0;34m\u001b[0m\u001b[0m\n\u001b[0m\u001b[1;32m   1443\u001b[0m \u001b[0;34m\u001b[0m\u001b[0m\n\u001b[1;32m   1444\u001b[0m     \u001b[0;32mdef\u001b[0m \u001b[0mclose\u001b[0m\u001b[0;34m(\u001b[0m\u001b[0mself\u001b[0m\u001b[0;34m)\u001b[0m \u001b[0;34m->\u001b[0m \u001b[0;32mNone\u001b[0m\u001b[0;34m:\u001b[0m\u001b[0;34m\u001b[0m\u001b[0;34m\u001b[0m\u001b[0m\n",
            "\u001b[0;32m/usr/local/lib/python3.10/dist-packages/pandas/io/parsers/readers.py\u001b[0m in \u001b[0;36m_make_engine\u001b[0;34m(self, f, engine)\u001b[0m\n\u001b[1;32m   1733\u001b[0m                 \u001b[0;32mif\u001b[0m \u001b[0;34m\"b\"\u001b[0m \u001b[0;32mnot\u001b[0m \u001b[0;32min\u001b[0m \u001b[0mmode\u001b[0m\u001b[0;34m:\u001b[0m\u001b[0;34m\u001b[0m\u001b[0;34m\u001b[0m\u001b[0m\n\u001b[1;32m   1734\u001b[0m                     \u001b[0mmode\u001b[0m \u001b[0;34m+=\u001b[0m \u001b[0;34m\"b\"\u001b[0m\u001b[0;34m\u001b[0m\u001b[0;34m\u001b[0m\u001b[0m\n\u001b[0;32m-> 1735\u001b[0;31m             self.handles = get_handle(\n\u001b[0m\u001b[1;32m   1736\u001b[0m                 \u001b[0mf\u001b[0m\u001b[0;34m,\u001b[0m\u001b[0;34m\u001b[0m\u001b[0;34m\u001b[0m\u001b[0m\n\u001b[1;32m   1737\u001b[0m                 \u001b[0mmode\u001b[0m\u001b[0;34m,\u001b[0m\u001b[0;34m\u001b[0m\u001b[0;34m\u001b[0m\u001b[0m\n",
            "\u001b[0;32m/usr/local/lib/python3.10/dist-packages/pandas/io/common.py\u001b[0m in \u001b[0;36mget_handle\u001b[0;34m(path_or_buf, mode, encoding, compression, memory_map, is_text, errors, storage_options)\u001b[0m\n\u001b[1;32m    854\u001b[0m         \u001b[0;32mif\u001b[0m \u001b[0mioargs\u001b[0m\u001b[0;34m.\u001b[0m\u001b[0mencoding\u001b[0m \u001b[0;32mand\u001b[0m \u001b[0;34m\"b\"\u001b[0m \u001b[0;32mnot\u001b[0m \u001b[0;32min\u001b[0m \u001b[0mioargs\u001b[0m\u001b[0;34m.\u001b[0m\u001b[0mmode\u001b[0m\u001b[0;34m:\u001b[0m\u001b[0;34m\u001b[0m\u001b[0;34m\u001b[0m\u001b[0m\n\u001b[1;32m    855\u001b[0m             \u001b[0;31m# Encoding\u001b[0m\u001b[0;34m\u001b[0m\u001b[0;34m\u001b[0m\u001b[0m\n\u001b[0;32m--> 856\u001b[0;31m             handle = open(\n\u001b[0m\u001b[1;32m    857\u001b[0m                 \u001b[0mhandle\u001b[0m\u001b[0;34m,\u001b[0m\u001b[0;34m\u001b[0m\u001b[0;34m\u001b[0m\u001b[0m\n\u001b[1;32m    858\u001b[0m                 \u001b[0mioargs\u001b[0m\u001b[0;34m.\u001b[0m\u001b[0mmode\u001b[0m\u001b[0;34m,\u001b[0m\u001b[0;34m\u001b[0m\u001b[0;34m\u001b[0m\u001b[0m\n",
            "\u001b[0;31mFileNotFoundError\u001b[0m: [Errno 2] No such file or directory: 'SortedNuclei.csv'"
          ]
        }
      ],
      "source": [
        "#read a data frame from csv file\n",
        "df_data = pd.read_csv('SortedNuclei.csv')\n",
        "df_data"
      ]
    },
    {
      "cell_type": "markdown",
      "metadata": {
        "id": "IzwcNd5D1wm8"
      },
      "source": [
        "Handling the Current Working Directory\n",
        "---\n",
        "\n",
        "***os.path*** : function of the operating system module to manipulate paths. \n",
        "\n",
        "---\n",
        "\n",
        "Current Working Directory (CWD): directory where your are operating. \n",
        "*   Whenever you can call the files only by their name. \n",
        "*   Folder where the Python script is running.\n",
        "\n",
        "https://docs.python.org/3/library/os.html\n",
        "\n",
        "\n",
        "3.10. Get the location of your Current Working Directory (CWD)"
      ]
    },
    {
      "cell_type": "code",
      "execution_count": null,
      "metadata": {
        "id": "4-q9hFvZnM9V"
      },
      "outputs": [],
      "source": [
        "import os\n",
        "parent_dir= os.getcwd()"
      ]
    },
    {
      "cell_type": "markdown",
      "metadata": {
        "id": "lm6L8xNw7rPf"
      },
      "source": [
        "3.11. Open a file using the path      \n"
      ]
    },
    {
      "cell_type": "code",
      "execution_count": null,
      "metadata": {
        "id": "660KMnwp7rCQ"
      },
      "outputs": [],
      "source": [
        "name_file = \"SortedNuclei.csv\"     \n",
        "path_temp = os.path.join(parent_dir, name_file)\n",
        "pd.read_csv(path_temp)"
      ]
    },
    {
      "cell_type": "markdown",
      "metadata": {
        "id": "l3NC1dD6-LVn"
      },
      "source": [
        "#4.Working with data tables\n",
        "**4. Working with data tables** \n",
        "---\n",
        "4.0. Playing with arrays, list, dictionaries\n",
        "---\n",
        "Array vs list \n",
        "\n",
        "https://favtutor.com/blogs/python-array-vs-list\n"
      ]
    },
    {
      "cell_type": "code",
      "execution_count": null,
      "metadata": {
        "id": "gYN6Q3EKfAeU"
      },
      "outputs": [],
      "source": [
        "#Create a array\n",
        "ones = np.ones(3)"
      ]
    },
    {
      "cell_type": "code",
      "execution_count": null,
      "metadata": {
        "id": "AurJv9jEfRPP"
      },
      "outputs": [],
      "source": [
        "# Creating a list  \n",
        "sample_list = [25,\"temperatures\",['day1','day2']] \n",
        "print(sample_list)"
      ]
    },
    {
      "cell_type": "code",
      "execution_count": null,
      "metadata": {
        "id": "KZHp_fwMfzer"
      },
      "outputs": [],
      "source": [
        "# Creating a dictionary\n",
        "sample_dict = {\n",
        "  \"Temperature\": [\"Centigrades\", \"Fahrenheit\"],\n",
        "  \"Experiment\": \"1\",\n",
        "  \"year\": 2021\n",
        "}\n",
        "#sample_dict\n",
        "print(sample_dict[\"Temperature\"])"
      ]
    },
    {
      "cell_type": "markdown",
      "metadata": {
        "id": "ZX9Oigag_XPO"
      },
      "source": [
        "---\n",
        "4.1. Basic statistics\n",
        "---\n",
        "https://numpy.org/doc/stable/reference/routines.statistics.html\n",
        "\n",
        "https://docs.python.org/3/tutorial/datastructures.html\n",
        "\n",
        "Use numpy: \n",
        "\n",
        "***mean***: Compute the arithmetic mean along the specified axis.\n",
        "\n",
        "***median***: Compute the median along the specified axis\n",
        "\n",
        "***var***: Compute the variance along the specified axis.\n",
        "\n",
        "***std***: Compute the standard deviation along the specified axis.\n",
        "\n",
        "***amin*** Return the minimum of an array or minimum along an axis.\n",
        "\n",
        "***amax***: Return the maximum of an array or maximum along an axis.\n",
        "\n",
        "Example: Open a file and get basic statics of a dataset\n"
      ]
    },
    {
      "cell_type": "code",
      "execution_count": 11,
      "metadata": {
        "id": "anCSp_LegmLE"
      },
      "outputs": [],
      "source": [
        "#path of the file\n",
        "import os\n",
        "import numpy as np\n",
        "parent_dir = os.getcwd()\n",
        "name_file = \"/content/drive/MyDrive/IntroBioImageAnalysis-main/wine.csv\"     \n",
        "path_wine = os.path.join(parent_dir, name_file)\n",
        "\n",
        "##define lists\n",
        "wine = []\n",
        "alcohol =[]\n",
        "phenols = []\n",
        "flavonoids = []\n",
        "all_data_wine = []\n",
        "\n",
        "## open the file, read the lines, and split the columns into lists\n",
        "file_wine = open(path_wine)\n",
        "data = file_wine.read().splitlines()\n",
        "for i in range(1, len(data)):\n",
        "    data_split = data[i].split(',')\n",
        "    wine.append(float(data_split[0]))\n",
        "    alcohol.append(float(data_split[1]))\n",
        "    phenols.append(float(data_split[6]))\n",
        "    flavonoids.append(float(data_split[7]))\n",
        "  \n",
        "    all_data_wine.append(np.asarray(data_split, dtype=np.float64))\n",
        "    \n",
        "file_wine.close()\n",
        "\n"
      ]
    },
    {
      "cell_type": "code",
      "execution_count": 13,
      "metadata": {
        "colab": {
          "base_uri": "https://localhost:8080/"
        },
        "id": "PSph364zERcl",
        "outputId": "64a193a6-abab-43b1-886b-b0437b2cabf6"
      },
      "outputs": [
        {
          "output_type": "stream",
          "name": "stdout",
          "text": [
            "alcohol: 13.0 std: 0.81\n",
            "phenols : 2.3 std: 0.62\n",
            "flavonoids: 2.03 std: 1.0\n",
            "median and var of alcohol: 13.05 var: 0.6553597304633255\n",
            "Mean of all:   [2.3  2.03]\n",
            "Std of all:   [0.62 1.  ]\n"
          ]
        }
      ],
      "source": [
        "#Mean/Median/Variance/STD/ of arrays\n",
        "print('alcohol:', round(np.mean(alcohol),2), 'std:', round(np.std(alcohol),2))\n",
        "print('phenols :',round(np.mean(phenols),2), 'std:', round(np.std(phenols),2))\n",
        "print('flavonoids:', round(np.mean(flavonoids),2), 'std:',round(np.std(flavonoids),2))\n",
        "print('median and var of alcohol:', np.median(alcohol),'var:', np.var(alcohol))\n",
        "\n",
        "print('Mean of all:  ', np.round(np.mean(all_data_wine, axis=0)[6:8],2))\n",
        "print('Std of all:  ', np.round(np.std(all_data_wine, axis=0)[6:8],2))\n",
        "#print('Mean of rows:', np.mean(all_data_wine, axis=1)[0:6])"
      ]
    },
    {
      "cell_type": "markdown",
      "metadata": {
        "id": "XTUHQeQDzyXB"
      },
      "source": [
        " \n",
        "---\n",
        "4.2. Ploting with matplotlib\n",
        "---\n",
        "https://matplotlib.org/stable/tutorials/introductory/sample_plots.html\n",
        "\n",
        "***matplotlib.pyplot*** collection of functions. We can create a figure, a \n",
        "plotting area, plot points, plot lines, and decorate.\n",
        "\n",
        "https://matplotlib.org/stable/tutorials/introductory/pyplot.html#sphx-glr-tutorials-introductory-pyplot-py\n",
        "\n",
        "Example: Plot two arrays in a figure"
      ]
    },
    {
      "cell_type": "code",
      "execution_count": null,
      "metadata": {
        "id": "-0GQgYg82SMZ"
      },
      "outputs": [],
      "source": [
        "import matplotlib.pyplot as plt\n",
        "\n",
        "plt.plot(wine, alcohol, '.', markersize=5, mfc='black', mec='gray', alpha=0.5 )\n",
        "\n",
        "plt.title('Wine-alcohol', fontsize=16)\n",
        "plt.xlabel('Wine type', fontsize=16)\n",
        "plt.ylabel('Alcohol (%)', fontsize=16)\n",
        "plt.show()"
      ]
    },
    {
      "cell_type": "code",
      "execution_count": null,
      "metadata": {
        "id": "-eytIAXXMSbx"
      },
      "outputs": [],
      "source": [
        "#histogram plots\n",
        "plt.hist(x=phenols, bins=4, color='b', alpha=0.7, rwidth=0.9)\n",
        "plt.grid(axis='y', linestyle='--', alpha=0.65)\n",
        "plt.xlabel('alcohol(%)', fontsize=16)\n",
        "plt.show()"
      ]
    },
    {
      "cell_type": "code",
      "execution_count": null,
      "metadata": {
        "id": "H52c4KemRsUH"
      },
      "outputs": [],
      "source": [
        "#Make own bins histogram and save my figure\n",
        "name_MyGraph = 'my_histogram.png'\n",
        "path_mygraph = os.path.join(parent_dir, name_MyGraph)\n",
        "\n",
        "plt.hist(x=flavonoids, bins=[1,2,3,4], color='r', alpha=0.7, rwidth=0.9)\n",
        "plt.grid(axis='y', ls='--', alpha=0.65)\n",
        "plt.xlabel('flavonoids(%)', fontsize=16)\n",
        "plt.savefig(path_mygraph)  ##save my figure\n",
        "plt.show()\n"
      ]
    },
    {
      "cell_type": "code",
      "execution_count": null,
      "metadata": {
        "id": "z04-QsVcjx2K"
      },
      "outputs": [],
      "source": [
        "#histogram plots\n",
        "mybins = np.arange(10.5,15.5, 0.8)\n",
        "shift = 0.4\n",
        "n_out, bins_out, patches = plt.hist(x=alcohol, bins=mybins, color='b', alpha=0.7, rwidth=0.8)\n",
        "plt.plot(mybins[1:len(mybins)]-shift, n_out, lw =2, c ='m')\n",
        "plt.xlabel('alcohol(%)', fontsize=16)\n",
        "plt.show()"
      ]
    },
    {
      "cell_type": "code",
      "execution_count": null,
      "metadata": {
        "id": "QBo0UV132qIe"
      },
      "outputs": [],
      "source": [
        "#Scatter plot\n",
        "\n",
        "plt.plot(phenols, flavonoids, 's', markersize=5, c='g', alpha=0.6)\n",
        "plt.plot(phenols[0:50], flavonoids[0:50], 's', markersize=5, c='r', alpha=0.5)\n",
        "plt.plot(phenols[100:178], flavonoids[100:178], 's', markersize=5, c='y', alpha=1)\n",
        "\n",
        "plt.title('Phenols-flavonoids', fontsize=16)\n",
        "plt.xlabel('Phenols (mg/L)', fontsize=16)\n",
        "plt.ylabel('Flavonoids (mg/L)', fontsize=16)\n",
        "\n",
        "plt.show()"
      ]
    },
    {
      "cell_type": "markdown",
      "metadata": {
        "id": "BQuFjVPidVVD"
      },
      "source": [
        "---\n",
        "4.4. Ploting images\n",
        "---\n",
        "\n",
        "Using ***matplotlib.image*** \n",
        "\n",
        "https://matplotlib.org/stable/api/image_api.html?highlight=image#module-matplotlib.image"
      ]
    },
    {
      "cell_type": "code",
      "execution_count": null,
      "metadata": {
        "id": "RAHAY9FXdULd"
      },
      "outputs": [],
      "source": [
        "import matplotlib\n",
        "import matplotlib.pyplot as plt\n",
        "import matplotlib.image as mpimg\n",
        "\n",
        "img = mpimg.imread('dogs.png')\n",
        "imgplot = plt.imshow(img)"
      ]
    },
    {
      "cell_type": "code",
      "execution_count": null,
      "metadata": {
        "id": "6QzDGNb_7OR9"
      },
      "outputs": [],
      "source": [
        "#Enhancing contrast by choosing one channel R, G, B\n",
        "img2 = img[:, :, 0]\n",
        "imgplot = plt.imshow(img2)\n",
        "imgplot.set_cmap('rainbow')\n",
        "plt.colorbar()\n",
        "plt.imsave('dogs_in_color.png', img2)"
      ]
    },
    {
      "cell_type": "code",
      "execution_count": null,
      "metadata": {
        "id": "7IFKeCNRoWJz"
      },
      "outputs": [],
      "source": [
        "# histogram \n",
        "plt.hist(img2.flatten(), bins =50, range=(0,1))\n",
        "plt.show()\n"
      ]
    }
  ],
  "metadata": {
    "colab": {
      "collapsed_sections": [
        "UyIAUdeYpayy"
      ],
      "name": "Sesion_2_Data_analysis_with_PythonI.ipynb",
      "provenance": []
    },
    "kernelspec": {
      "display_name": "Python 3 (ipykernel)",
      "language": "python",
      "name": "python3"
    },
    "language_info": {
      "codemirror_mode": {
        "name": "ipython",
        "version": 3
      },
      "file_extension": ".py",
      "mimetype": "text/x-python",
      "name": "python",
      "nbconvert_exporter": "python",
      "pygments_lexer": "ipython3",
      "version": "3.10.9"
    }
  },
  "nbformat": 4,
  "nbformat_minor": 0
}